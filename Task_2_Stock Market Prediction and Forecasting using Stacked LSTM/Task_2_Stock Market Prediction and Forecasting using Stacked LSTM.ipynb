{
 "cells": [
  {
   "cell_type": "markdown",
   "id": "b244f76a",
   "metadata": {},
   "source": [
    "# Task2_Stock Market Prediction and Forecasting using Stacked LSTM"
   ]
  },
  {
   "cell_type": "markdown",
   "id": "1a2de7ae",
   "metadata": {},
   "source": [
    "## Name :- Pratik Kolhe"
   ]
  },
  {
   "cell_type": "code",
   "execution_count": 1,
   "id": "3a1e42d9",
   "metadata": {},
   "outputs": [],
   "source": [
    "import pandas as pd\n",
    "import numpy as np\n",
    "import seaborn as sns\n",
    "import matplotlib.pyplot as plt\n",
    "%matplotlib inline"
   ]
  },
  {
   "cell_type": "code",
   "execution_count": 2,
   "id": "3e6d2b0b-1dac-4946-970e-3d1d9dd9403d",
   "metadata": {},
   "outputs": [
    {
     "data": {
      "text/html": [
       "<div>\n",
       "<style scoped>\n",
       "    .dataframe tbody tr th:only-of-type {\n",
       "        vertical-align: middle;\n",
       "    }\n",
       "\n",
       "    .dataframe tbody tr th {\n",
       "        vertical-align: top;\n",
       "    }\n",
       "\n",
       "    .dataframe thead th {\n",
       "        text-align: right;\n",
       "    }\n",
       "</style>\n",
       "<table border=\"1\" class=\"dataframe\">\n",
       "  <thead>\n",
       "    <tr style=\"text-align: right;\">\n",
       "      <th></th>\n",
       "      <th>Date</th>\n",
       "      <th>Open</th>\n",
       "      <th>High</th>\n",
       "      <th>Low</th>\n",
       "      <th>Last</th>\n",
       "      <th>Close</th>\n",
       "      <th>Total Trade Quantity</th>\n",
       "      <th>Turnover (Lacs)</th>\n",
       "    </tr>\n",
       "  </thead>\n",
       "  <tbody>\n",
       "    <tr>\n",
       "      <th>2034</th>\n",
       "      <td>2010-07-21</td>\n",
       "      <td>122.1</td>\n",
       "      <td>123.00</td>\n",
       "      <td>121.05</td>\n",
       "      <td>121.10</td>\n",
       "      <td>121.55</td>\n",
       "      <td>658666</td>\n",
       "      <td>803.56</td>\n",
       "    </tr>\n",
       "    <tr>\n",
       "      <th>2033</th>\n",
       "      <td>2010-07-22</td>\n",
       "      <td>120.3</td>\n",
       "      <td>122.00</td>\n",
       "      <td>120.25</td>\n",
       "      <td>120.75</td>\n",
       "      <td>120.90</td>\n",
       "      <td>293312</td>\n",
       "      <td>355.17</td>\n",
       "    </tr>\n",
       "    <tr>\n",
       "      <th>2032</th>\n",
       "      <td>2010-07-23</td>\n",
       "      <td>121.8</td>\n",
       "      <td>121.95</td>\n",
       "      <td>120.25</td>\n",
       "      <td>120.35</td>\n",
       "      <td>120.65</td>\n",
       "      <td>281312</td>\n",
       "      <td>340.31</td>\n",
       "    </tr>\n",
       "    <tr>\n",
       "      <th>2031</th>\n",
       "      <td>2010-07-26</td>\n",
       "      <td>120.1</td>\n",
       "      <td>121.00</td>\n",
       "      <td>117.10</td>\n",
       "      <td>117.10</td>\n",
       "      <td>117.60</td>\n",
       "      <td>658440</td>\n",
       "      <td>780.01</td>\n",
       "    </tr>\n",
       "    <tr>\n",
       "      <th>2030</th>\n",
       "      <td>2010-07-27</td>\n",
       "      <td>117.6</td>\n",
       "      <td>119.50</td>\n",
       "      <td>112.00</td>\n",
       "      <td>118.80</td>\n",
       "      <td>118.65</td>\n",
       "      <td>586100</td>\n",
       "      <td>694.98</td>\n",
       "    </tr>\n",
       "  </tbody>\n",
       "</table>\n",
       "</div>"
      ],
      "text/plain": [
       "            Date   Open    High     Low    Last   Close  Total Trade Quantity  \\\n",
       "2034  2010-07-21  122.1  123.00  121.05  121.10  121.55                658666   \n",
       "2033  2010-07-22  120.3  122.00  120.25  120.75  120.90                293312   \n",
       "2032  2010-07-23  121.8  121.95  120.25  120.35  120.65                281312   \n",
       "2031  2010-07-26  120.1  121.00  117.10  117.10  117.60                658440   \n",
       "2030  2010-07-27  117.6  119.50  112.00  118.80  118.65                586100   \n",
       "\n",
       "      Turnover (Lacs)  \n",
       "2034           803.56  \n",
       "2033           355.17  \n",
       "2032           340.31  \n",
       "2031           780.01  \n",
       "2030           694.98  "
      ]
     },
     "execution_count": 2,
     "metadata": {},
     "output_type": "execute_result"
    }
   ],
   "source": [
    "df =pd.read_csv('NSE-TATAGLOBAL.csv')\n",
    "df=df.iloc[::-1]\n",
    "df.head()"
   ]
  },
  {
   "cell_type": "code",
   "execution_count": 3,
   "id": "680e12c5-3173-4176-9324-e79622ef5775",
   "metadata": {},
   "outputs": [
    {
     "data": {
      "text/html": [
       "<div>\n",
       "<style scoped>\n",
       "    .dataframe tbody tr th:only-of-type {\n",
       "        vertical-align: middle;\n",
       "    }\n",
       "\n",
       "    .dataframe tbody tr th {\n",
       "        vertical-align: top;\n",
       "    }\n",
       "\n",
       "    .dataframe thead th {\n",
       "        text-align: right;\n",
       "    }\n",
       "</style>\n",
       "<table border=\"1\" class=\"dataframe\">\n",
       "  <thead>\n",
       "    <tr style=\"text-align: right;\">\n",
       "      <th></th>\n",
       "      <th>Date</th>\n",
       "      <th>Open</th>\n",
       "      <th>High</th>\n",
       "      <th>Low</th>\n",
       "      <th>Last</th>\n",
       "      <th>Close</th>\n",
       "      <th>Total Trade Quantity</th>\n",
       "      <th>Turnover (Lacs)</th>\n",
       "    </tr>\n",
       "  </thead>\n",
       "  <tbody>\n",
       "    <tr>\n",
       "      <th>4</th>\n",
       "      <td>2018-09-24</td>\n",
       "      <td>233.55</td>\n",
       "      <td>239.20</td>\n",
       "      <td>230.75</td>\n",
       "      <td>234.00</td>\n",
       "      <td>233.30</td>\n",
       "      <td>3423509</td>\n",
       "      <td>7999.55</td>\n",
       "    </tr>\n",
       "    <tr>\n",
       "      <th>3</th>\n",
       "      <td>2018-09-25</td>\n",
       "      <td>233.30</td>\n",
       "      <td>236.75</td>\n",
       "      <td>232.00</td>\n",
       "      <td>236.25</td>\n",
       "      <td>236.10</td>\n",
       "      <td>2349368</td>\n",
       "      <td>5503.90</td>\n",
       "    </tr>\n",
       "    <tr>\n",
       "      <th>2</th>\n",
       "      <td>2018-09-26</td>\n",
       "      <td>240.00</td>\n",
       "      <td>240.00</td>\n",
       "      <td>232.50</td>\n",
       "      <td>235.00</td>\n",
       "      <td>234.25</td>\n",
       "      <td>2240909</td>\n",
       "      <td>5248.60</td>\n",
       "    </tr>\n",
       "    <tr>\n",
       "      <th>1</th>\n",
       "      <td>2018-09-27</td>\n",
       "      <td>234.55</td>\n",
       "      <td>236.80</td>\n",
       "      <td>231.10</td>\n",
       "      <td>233.80</td>\n",
       "      <td>233.25</td>\n",
       "      <td>5082859</td>\n",
       "      <td>11859.95</td>\n",
       "    </tr>\n",
       "    <tr>\n",
       "      <th>0</th>\n",
       "      <td>2018-09-28</td>\n",
       "      <td>234.05</td>\n",
       "      <td>235.95</td>\n",
       "      <td>230.20</td>\n",
       "      <td>233.50</td>\n",
       "      <td>233.75</td>\n",
       "      <td>3069914</td>\n",
       "      <td>7162.35</td>\n",
       "    </tr>\n",
       "  </tbody>\n",
       "</table>\n",
       "</div>"
      ],
      "text/plain": [
       "         Date    Open    High     Low    Last   Close  Total Trade Quantity  \\\n",
       "4  2018-09-24  233.55  239.20  230.75  234.00  233.30               3423509   \n",
       "3  2018-09-25  233.30  236.75  232.00  236.25  236.10               2349368   \n",
       "2  2018-09-26  240.00  240.00  232.50  235.00  234.25               2240909   \n",
       "1  2018-09-27  234.55  236.80  231.10  233.80  233.25               5082859   \n",
       "0  2018-09-28  234.05  235.95  230.20  233.50  233.75               3069914   \n",
       "\n",
       "   Turnover (Lacs)  \n",
       "4          7999.55  \n",
       "3          5503.90  \n",
       "2          5248.60  \n",
       "1         11859.95  \n",
       "0          7162.35  "
      ]
     },
     "execution_count": 3,
     "metadata": {},
     "output_type": "execute_result"
    }
   ],
   "source": [
    "df.tail()"
   ]
  },
  {
   "cell_type": "code",
   "execution_count": 4,
   "id": "8e157420-c683-4819-86d7-2b163c88ae45",
   "metadata": {},
   "outputs": [
    {
     "data": {
      "text/plain": [
       "(2035, 8)"
      ]
     },
     "execution_count": 4,
     "metadata": {},
     "output_type": "execute_result"
    }
   ],
   "source": [
    "df.shape"
   ]
  },
  {
   "cell_type": "code",
   "execution_count": 5,
   "id": "2167bb48-9377-4948-a9d1-9adfdba59579",
   "metadata": {},
   "outputs": [
    {
     "data": {
      "text/plain": [
       "Index(['Date', 'Open', 'High', 'Low', 'Last', 'Close', 'Total Trade Quantity',\n",
       "       'Turnover (Lacs)'],\n",
       "      dtype='object')"
      ]
     },
     "execution_count": 5,
     "metadata": {},
     "output_type": "execute_result"
    }
   ],
   "source": [
    "df.columns"
   ]
  },
  {
   "cell_type": "code",
   "execution_count": 6,
   "id": "2c124aa0-941c-4c68-ad3c-b4cd7d401fe9",
   "metadata": {},
   "outputs": [
    {
     "name": "stdout",
     "output_type": "stream",
     "text": [
      "<class 'pandas.core.frame.DataFrame'>\n",
      "RangeIndex: 2035 entries, 2034 to 0\n",
      "Data columns (total 8 columns):\n",
      " #   Column                Non-Null Count  Dtype  \n",
      "---  ------                --------------  -----  \n",
      " 0   Date                  2035 non-null   object \n",
      " 1   Open                  2035 non-null   float64\n",
      " 2   High                  2035 non-null   float64\n",
      " 3   Low                   2035 non-null   float64\n",
      " 4   Last                  2035 non-null   float64\n",
      " 5   Close                 2035 non-null   float64\n",
      " 6   Total Trade Quantity  2035 non-null   int64  \n",
      " 7   Turnover (Lacs)       2035 non-null   float64\n",
      "dtypes: float64(6), int64(1), object(1)\n",
      "memory usage: 127.3+ KB\n"
     ]
    }
   ],
   "source": [
    "df.info()"
   ]
  },
  {
   "cell_type": "code",
   "execution_count": 7,
   "id": "19668e8f-a89b-40e3-ace6-0d1b65ec6a0d",
   "metadata": {},
   "outputs": [
    {
     "data": {
      "text/html": [
       "<div>\n",
       "<style scoped>\n",
       "    .dataframe tbody tr th:only-of-type {\n",
       "        vertical-align: middle;\n",
       "    }\n",
       "\n",
       "    .dataframe tbody tr th {\n",
       "        vertical-align: top;\n",
       "    }\n",
       "\n",
       "    .dataframe thead th {\n",
       "        text-align: right;\n",
       "    }\n",
       "</style>\n",
       "<table border=\"1\" class=\"dataframe\">\n",
       "  <thead>\n",
       "    <tr style=\"text-align: right;\">\n",
       "      <th></th>\n",
       "      <th>Open</th>\n",
       "      <th>High</th>\n",
       "      <th>Low</th>\n",
       "      <th>Last</th>\n",
       "      <th>Close</th>\n",
       "      <th>Total Trade Quantity</th>\n",
       "      <th>Turnover (Lacs)</th>\n",
       "    </tr>\n",
       "  </thead>\n",
       "  <tbody>\n",
       "    <tr>\n",
       "      <th>count</th>\n",
       "      <td>2035.000000</td>\n",
       "      <td>2035.000000</td>\n",
       "      <td>2035.000000</td>\n",
       "      <td>2035.000000</td>\n",
       "      <td>2035.00000</td>\n",
       "      <td>2.035000e+03</td>\n",
       "      <td>2035.000000</td>\n",
       "    </tr>\n",
       "    <tr>\n",
       "      <th>mean</th>\n",
       "      <td>149.713735</td>\n",
       "      <td>151.992826</td>\n",
       "      <td>147.293931</td>\n",
       "      <td>149.474251</td>\n",
       "      <td>149.45027</td>\n",
       "      <td>2.335681e+06</td>\n",
       "      <td>3899.980565</td>\n",
       "    </tr>\n",
       "    <tr>\n",
       "      <th>std</th>\n",
       "      <td>48.664509</td>\n",
       "      <td>49.413109</td>\n",
       "      <td>47.931958</td>\n",
       "      <td>48.732570</td>\n",
       "      <td>48.71204</td>\n",
       "      <td>2.091778e+06</td>\n",
       "      <td>4570.767877</td>\n",
       "    </tr>\n",
       "    <tr>\n",
       "      <th>min</th>\n",
       "      <td>81.100000</td>\n",
       "      <td>82.800000</td>\n",
       "      <td>80.000000</td>\n",
       "      <td>81.000000</td>\n",
       "      <td>80.95000</td>\n",
       "      <td>3.961000e+04</td>\n",
       "      <td>37.040000</td>\n",
       "    </tr>\n",
       "    <tr>\n",
       "      <th>25%</th>\n",
       "      <td>120.025000</td>\n",
       "      <td>122.100000</td>\n",
       "      <td>118.300000</td>\n",
       "      <td>120.075000</td>\n",
       "      <td>120.05000</td>\n",
       "      <td>1.146444e+06</td>\n",
       "      <td>1427.460000</td>\n",
       "    </tr>\n",
       "    <tr>\n",
       "      <th>50%</th>\n",
       "      <td>141.500000</td>\n",
       "      <td>143.400000</td>\n",
       "      <td>139.600000</td>\n",
       "      <td>141.100000</td>\n",
       "      <td>141.25000</td>\n",
       "      <td>1.783456e+06</td>\n",
       "      <td>2512.030000</td>\n",
       "    </tr>\n",
       "    <tr>\n",
       "      <th>75%</th>\n",
       "      <td>157.175000</td>\n",
       "      <td>159.400000</td>\n",
       "      <td>155.150000</td>\n",
       "      <td>156.925000</td>\n",
       "      <td>156.90000</td>\n",
       "      <td>2.813594e+06</td>\n",
       "      <td>4539.015000</td>\n",
       "    </tr>\n",
       "    <tr>\n",
       "      <th>max</th>\n",
       "      <td>327.700000</td>\n",
       "      <td>328.750000</td>\n",
       "      <td>321.650000</td>\n",
       "      <td>325.950000</td>\n",
       "      <td>325.75000</td>\n",
       "      <td>2.919102e+07</td>\n",
       "      <td>55755.080000</td>\n",
       "    </tr>\n",
       "  </tbody>\n",
       "</table>\n",
       "</div>"
      ],
      "text/plain": [
       "              Open         High          Low         Last       Close  \\\n",
       "count  2035.000000  2035.000000  2035.000000  2035.000000  2035.00000   \n",
       "mean    149.713735   151.992826   147.293931   149.474251   149.45027   \n",
       "std      48.664509    49.413109    47.931958    48.732570    48.71204   \n",
       "min      81.100000    82.800000    80.000000    81.000000    80.95000   \n",
       "25%     120.025000   122.100000   118.300000   120.075000   120.05000   \n",
       "50%     141.500000   143.400000   139.600000   141.100000   141.25000   \n",
       "75%     157.175000   159.400000   155.150000   156.925000   156.90000   \n",
       "max     327.700000   328.750000   321.650000   325.950000   325.75000   \n",
       "\n",
       "       Total Trade Quantity  Turnover (Lacs)  \n",
       "count          2.035000e+03      2035.000000  \n",
       "mean           2.335681e+06      3899.980565  \n",
       "std            2.091778e+06      4570.767877  \n",
       "min            3.961000e+04        37.040000  \n",
       "25%            1.146444e+06      1427.460000  \n",
       "50%            1.783456e+06      2512.030000  \n",
       "75%            2.813594e+06      4539.015000  \n",
       "max            2.919102e+07     55755.080000  "
      ]
     },
     "execution_count": 7,
     "metadata": {},
     "output_type": "execute_result"
    }
   ],
   "source": [
    "df.describe()"
   ]
  },
  {
   "cell_type": "code",
   "execution_count": 8,
   "id": "67b69f5e-afd1-473c-b163-9ccb31182465",
   "metadata": {},
   "outputs": [
    {
     "data": {
      "text/plain": [
       "Date                    0\n",
       "Open                    0\n",
       "High                    0\n",
       "Low                     0\n",
       "Last                    0\n",
       "Close                   0\n",
       "Total Trade Quantity    0\n",
       "Turnover (Lacs)         0\n",
       "dtype: int64"
      ]
     },
     "execution_count": 8,
     "metadata": {},
     "output_type": "execute_result"
    }
   ],
   "source": [
    "#Data Preprocessing\n",
    "df.isnull().sum()"
   ]
  },
  {
   "cell_type": "code",
   "execution_count": 9,
   "id": "e0a8eb35-1a02-48cd-a1aa-a4503d4d3ea1",
   "metadata": {},
   "outputs": [
    {
     "data": {
      "text/plain": [
       "False    2035\n",
       "dtype: int64"
      ]
     },
     "execution_count": 9,
     "metadata": {},
     "output_type": "execute_result"
    }
   ],
   "source": [
    "duplicates= df.duplicated()\n",
    "duplicates.value_counts() # no duplicates present"
   ]
  },
  {
   "cell_type": "code",
   "execution_count": 10,
   "id": "c163730b-6fba-4f9b-8b92-71f431968efa",
   "metadata": {},
   "outputs": [
    {
     "data": {
      "text/plain": [
       "<AxesSubplot:>"
      ]
     },
     "execution_count": 10,
     "metadata": {},
     "output_type": "execute_result"
    },
    {
     "data": {
      "image/png": "[encoded data removed]",
      "text/plain": [
       "<Figure size 576x576 with 2 Axes>"
      ]
     },
     "metadata": {
      "needs_background": "light"
     },
     "output_type": "display_data"
    }
   ],
   "source": [
    "plt.figure(figsize=(8,8))\n",
    "sns.heatmap(df.corr(), annot=True)"
   ]
  },
  {
   "cell_type": "code",
   "execution_count": 11,
   "id": "a119ab76-2295-4b78-857d-2a6afcdebc35",
   "metadata": {},
   "outputs": [
    {
     "data": {
      "text/plain": [
       "[<matplotlib.lines.Line2D at 0x1c20a801130>]"
      ]
     },
     "execution_count": 11,
     "metadata": {},
     "output_type": "execute_result"
    },
    {
     "data": {
      "image/png": "[encoded data removed]",
      "text/plain": [
       "<Figure size 432x288 with 1 Axes>"
      ]
     },
     "metadata": {
      "needs_background": "light"
     },
     "output_type": "display_data"
    }
   ],
   "source": [
    "df_high=df.reset_index()['High']\n",
    "plt.plot(df_high)"
   ]
  },
  {
   "cell_type": "code",
   "execution_count": 12,
   "id": "a5eccf1c-2ca6-4512-a352-161582327e98",
   "metadata": {},
   "outputs": [],
   "source": [
    "from sklearn.preprocessing import MinMaxScaler\n",
    "scaler = MinMaxScaler(feature_range = (0,1))\n",
    "df_high = scaler.fit_transform(np.array(df_high).reshape(-1,1))"
   ]
  },
  {
   "cell_type": "code",
   "execution_count": 13,
   "id": "b54df3e5-865e-4e36-b678-83e5c21e7a99",
   "metadata": {},
   "outputs": [
    {
     "data": {
      "text/plain": [
       "(2035, 1)"
      ]
     },
     "execution_count": 13,
     "metadata": {},
     "output_type": "execute_result"
    }
   ],
   "source": [
    "df_high.shape"
   ]
  },
  {
   "cell_type": "code",
   "execution_count": 14,
   "id": "6efb08ef-3a81-440c-b5c7-a83e682f6f4a",
   "metadata": {},
   "outputs": [
    {
     "data": {
      "text/plain": [
       "array([[0.16344786],\n",
       "       [0.15938199],\n",
       "       [0.15917869],\n",
       "       ...,\n",
       "       [0.6391543 ],\n",
       "       [0.62614353],\n",
       "       [0.62268754]])"
      ]
     },
     "execution_count": 14,
     "metadata": {},
     "output_type": "execute_result"
    }
   ],
   "source": [
    "df_high"
   ]
  },
  {
   "cell_type": "code",
   "execution_count": 15,
   "id": "86d16a35-e5aa-497b-a470-7f2e598b5094",
   "metadata": {},
   "outputs": [],
   "source": [
    "#Split the data into train and test split\n",
    "training_size = int(len(df_high) * 0.75)\n",
    "test_size = len(df_high) - training_size\n",
    "train_data,test_data = df_high[0:training_size,:], df_high[training_size:len(df_high),:1]"
   ]
  },
  {
   "cell_type": "code",
   "execution_count": 16,
   "id": "77cc792b-5196-4796-ae0d-eb7b87e4cc5e",
   "metadata": {},
   "outputs": [
    {
     "data": {
      "text/plain": [
       "(1526, 509)"
      ]
     },
     "execution_count": 16,
     "metadata": {},
     "output_type": "execute_result"
    }
   ],
   "source": [
    "training_size, test_size"
   ]
  },
  {
   "cell_type": "code",
   "execution_count": 17,
   "id": "72df3b5f-fda2-42ed-b9bc-e1196c87fdc6",
   "metadata": {},
   "outputs": [],
   "source": [
    "# convert an array of values into a dataset matrix\n",
    "def create_dataset(dataset, time_step=1):\n",
    "    dataX, dataY = [], []\n",
    "    for i in range(len(dataset)-time_step-1):\n",
    "        a = dataset[i:(i+time_step), 0]  \n",
    "        dataX.append(a)\n",
    "        dataY.append(dataset[i + time_step, 0])\n",
    "    return np.array(dataX), np.array(dataY)"
   ]
  },
  {
   "cell_type": "code",
   "execution_count": 18,
   "id": "9ba5b64a-22a8-44c3-9525-5dbd586ee260",
   "metadata": {},
   "outputs": [],
   "source": [
    "time_step = 100\n",
    "x_train, y_train = create_dataset(train_data, time_step)\n",
    "x_test, y_test = create_dataset(test_data, time_step)"
   ]
  },
  {
   "cell_type": "code",
   "execution_count": 19,
   "id": "ff5da392-92b4-409a-8e78-2a5b5a494b57",
   "metadata": {},
   "outputs": [],
   "source": [
    "#Reshape the input to be [samples, time steps, features] which is the requirement of LSTM\n",
    "x_train = x_train.reshape(x_train.shape[0], x_train.shape[1], 1)\n",
    "x_test = x_test.reshape(x_test.shape[0], x_test.shape[1], 1)"
   ]
  },
  {
   "cell_type": "code",
   "execution_count": 20,
   "id": "2baebbd6-97d1-4319-bb32-2fe3ca3da7f9",
   "metadata": {},
   "outputs": [
    {
     "name": "stdout",
     "output_type": "stream",
     "text": [
      "(1425, 100, 1)\n",
      "(1425,)\n"
     ]
    },
    {
     "data": {
      "text/plain": [
       "(None, None)"
      ]
     },
     "execution_count": 20,
     "metadata": {},
     "output_type": "execute_result"
    }
   ],
   "source": [
    "print(x_train.shape), print(y_train.shape)"
   ]
  },
  {
   "cell_type": "code",
   "execution_count": 21,
   "id": "a0dbe222-be17-4b83-a4c6-9f047dc9a7cc",
   "metadata": {},
   "outputs": [
    {
     "name": "stdout",
     "output_type": "stream",
     "text": [
      "(408, 100, 1)\n",
      "(408,)\n"
     ]
    },
    {
     "data": {
      "text/plain": [
       "(None, None)"
      ]
     },
     "execution_count": 21,
     "metadata": {},
     "output_type": "execute_result"
    }
   ],
   "source": [
    "print(x_test.shape), print(y_test.shape)"
   ]
  },
  {
   "cell_type": "code",
   "execution_count": 22,
   "id": "e4793afb-dc1f-46de-b0ad-376668070d29",
   "metadata": {},
   "outputs": [],
   "source": [
    "import tensorflow as tf\n",
    "from tensorflow.python.keras.models import Sequential\n",
    "from tensorflow.python.keras.layers import Dense\n",
    "from tensorflow.python.keras.layers import LSTM"
   ]
  },
  {
   "cell_type": "code",
   "execution_count": 23,
   "id": "61e351bc-d940-4a2f-a20d-9832b491bd3c",
   "metadata": {},
   "outputs": [],
   "source": [
    "# Create the Stacked LSTM model\n",
    "model = Sequential()\n",
    "model.add(LSTM(50, return_sequences = True, input_shape = (100,1)))\n",
    "model.add(LSTM(50, return_sequences = True))\n",
    "model.add(LSTM(50))\n",
    "model.add(Dense(1))\n",
    "model.compile(loss = 'mean_squared_error', optimizer = 'adam')"
   ]
  },
  {
   "cell_type": "code",
   "execution_count": 24,
   "id": "54b9207a-2078-4b53-97f6-998d77d62c48",
   "metadata": {},
   "outputs": [
    {
     "name": "stdout",
     "output_type": "stream",
     "text": [
      "Model: \"sequential\"\n",
      "_________________________________________________________________\n",
      "Layer (type)                 Output Shape              Param #   \n",
      "=================================================================\n",
      "lstm (LSTM)                  (None, 100, 50)           10400     \n",
      "_________________________________________________________________\n",
      "lstm_1 (LSTM)                (None, 100, 50)           20200     \n",
      "_________________________________________________________________\n",
      "lstm_2 (LSTM)                (None, 50)                20200     \n",
      "_________________________________________________________________\n",
      "dense (Dense)                (None, 1)                 51        \n",
      "=================================================================\n",
      "Total params: 50,851\n",
      "Trainable params: 50,851\n",
      "Non-trainable params: 0\n",
      "_________________________________________________________________\n"
     ]
    }
   ],
   "source": [
    "model.summary()"
   ]
  },
  {
   "cell_type": "code",
   "execution_count": 25,
   "id": "053bbc08-a95f-4731-894b-b86c8b2ec9ed",
   "metadata": {},
   "outputs": [
    {
     "name": "stdout",
     "output_type": "stream",
     "text": [
      "Epoch 1/100\n",
      "23/23 [==============================] - 11s 158ms/step - loss: 0.0122 - val_loss: 0.0554\n",
      "Epoch 2/100\n",
      "23/23 [==============================] - 3s 117ms/step - loss: 0.0018 - val_loss: 0.0032\n",
      "Epoch 3/100\n",
      "23/23 [==============================] - 3s 119ms/step - loss: 8.4611e-04 - val_loss: 0.0030\n",
      "Epoch 4/100\n",
      "23/23 [==============================] - 3s 117ms/step - loss: 7.4146e-04 - val_loss: 0.0028\n",
      "Epoch 5/100\n",
      "23/23 [==============================] - 3s 123ms/step - loss: 7.2440e-04 - val_loss: 0.0030\n",
      "Epoch 6/100\n",
      "23/23 [==============================] - 3s 119ms/step - loss: 7.2477e-04 - val_loss: 0.0032\n",
      "Epoch 7/100\n",
      "23/23 [==============================] - 3s 120ms/step - loss: 6.8395e-04 - val_loss: 0.0032\n",
      "Epoch 8/100\n",
      "23/23 [==============================] - 3s 112ms/step - loss: 6.3939e-04 - val_loss: 0.0033\n",
      "Epoch 9/100\n",
      "23/23 [==============================] - 3s 113ms/step - loss: 6.0845e-04 - val_loss: 0.0026\n",
      "Epoch 10/100\n",
      "23/23 [==============================] - 3s 114ms/step - loss: 6.0821e-04 - val_loss: 0.0044\n",
      "Epoch 11/100\n",
      "23/23 [==============================] - 3s 112ms/step - loss: 5.7616e-04 - val_loss: 0.0029\n",
      "Epoch 12/100\n",
      "23/23 [==============================] - 3s 112ms/step - loss: 5.6435e-04 - val_loss: 0.0060\n",
      "Epoch 13/100\n",
      "23/23 [==============================] - 3s 114ms/step - loss: 5.8591e-04 - val_loss: 0.0046\n",
      "Epoch 14/100\n",
      "23/23 [==============================] - 3s 121ms/step - loss: 5.2032e-04 - val_loss: 0.0045\n",
      "Epoch 15/100\n",
      "23/23 [==============================] - 3s 126ms/step - loss: 5.1283e-04 - val_loss: 0.0054\n",
      "Epoch 16/100\n",
      "23/23 [==============================] - 3s 123ms/step - loss: 5.0679e-04 - val_loss: 0.0049\n",
      "Epoch 17/100\n",
      "23/23 [==============================] - 3s 122ms/step - loss: 5.3634e-04 - val_loss: 0.0047\n",
      "Epoch 18/100\n",
      "23/23 [==============================] - 3s 120ms/step - loss: 4.7485e-04 - val_loss: 0.0044\n",
      "Epoch 19/100\n",
      "23/23 [==============================] - 3s 122ms/step - loss: 4.5993e-04 - val_loss: 0.0070\n",
      "Epoch 20/100\n",
      "23/23 [==============================] - 3s 120ms/step - loss: 4.6832e-04 - val_loss: 0.0054\n",
      "Epoch 21/100\n",
      "23/23 [==============================] - 3s 122ms/step - loss: 4.3737e-04 - val_loss: 0.0037\n",
      "Epoch 22/100\n",
      "23/23 [==============================] - 3s 121ms/step - loss: 4.3058e-04 - val_loss: 0.0054\n",
      "Epoch 23/100\n",
      "23/23 [==============================] - 3s 123ms/step - loss: 4.2622e-04 - val_loss: 0.0058\n",
      "Epoch 24/100\n",
      "23/23 [==============================] - 3s 122ms/step - loss: 4.0626e-04 - val_loss: 0.0090\n",
      "Epoch 25/100\n",
      "23/23 [==============================] - 3s 122ms/step - loss: 4.3956e-04 - val_loss: 0.0055\n",
      "Epoch 26/100\n",
      "23/23 [==============================] - 3s 121ms/step - loss: 3.8078e-04 - val_loss: 0.0065\n",
      "Epoch 27/100\n",
      "23/23 [==============================] - 3s 120ms/step - loss: 3.6515e-04 - val_loss: 0.0066\n",
      "Epoch 28/100\n",
      "23/23 [==============================] - 3s 120ms/step - loss: 3.5676e-04 - val_loss: 0.0067\n",
      "Epoch 29/100\n",
      "23/23 [==============================] - 3s 122ms/step - loss: 3.5098e-04 - val_loss: 0.0057\n",
      "Epoch 30/100\n",
      "23/23 [==============================] - 3s 121ms/step - loss: 3.3825e-04 - val_loss: 0.0034\n",
      "Epoch 31/100\n",
      "23/23 [==============================] - 3s 136ms/step - loss: 3.4140e-04 - val_loss: 0.0048\n",
      "Epoch 32/100\n",
      "23/23 [==============================] - 3s 121ms/step - loss: 3.1900e-04 - val_loss: 0.0061\n",
      "Epoch 33/100\n",
      "23/23 [==============================] - 3s 120ms/step - loss: 3.0788e-04 - val_loss: 0.0073\n",
      "Epoch 34/100\n",
      "23/23 [==============================] - 3s 121ms/step - loss: 3.2251e-04 - val_loss: 0.0042\n",
      "Epoch 35/100\n",
      "23/23 [==============================] - 3s 129ms/step - loss: 2.8984e-04 - val_loss: 0.0044\n",
      "Epoch 36/100\n",
      "23/23 [==============================] - 3s 123ms/step - loss: 2.9318e-04 - val_loss: 0.0054\n",
      "Epoch 37/100\n",
      "23/23 [==============================] - 3s 120ms/step - loss: 2.8262e-04 - val_loss: 0.0034\n",
      "Epoch 38/100\n",
      "23/23 [==============================] - 3s 120ms/step - loss: 3.0429e-04 - val_loss: 0.0018\n",
      "Epoch 39/100\n",
      "23/23 [==============================] - 3s 120ms/step - loss: 2.7122e-04 - val_loss: 0.0025\n",
      "Epoch 40/100\n",
      "23/23 [==============================] - 3s 121ms/step - loss: 2.4916e-04 - val_loss: 0.0045\n",
      "Epoch 41/100\n",
      "23/23 [==============================] - 3s 122ms/step - loss: 2.5388e-04 - val_loss: 0.0046\n",
      "Epoch 42/100\n",
      "23/23 [==============================] - 3s 122ms/step - loss: 2.2660e-04 - val_loss: 0.0033\n",
      "Epoch 43/100\n",
      "23/23 [==============================] - 3s 121ms/step - loss: 2.2410e-04 - val_loss: 0.0037\n",
      "Epoch 44/100\n",
      "23/23 [==============================] - 3s 121ms/step - loss: 2.2313e-04 - val_loss: 0.0031\n",
      "Epoch 45/100\n",
      "23/23 [==============================] - 3s 121ms/step - loss: 2.1315e-04 - val_loss: 0.0022\n",
      "Epoch 46/100\n",
      "23/23 [==============================] - 3s 121ms/step - loss: 2.0737e-04 - val_loss: 0.0031\n",
      "Epoch 47/100\n",
      "23/23 [==============================] - 3s 121ms/step - loss: 1.9765e-04 - val_loss: 0.0024\n",
      "Epoch 48/100\n",
      "23/23 [==============================] - 3s 121ms/step - loss: 1.9206e-04 - val_loss: 0.0039\n",
      "Epoch 49/100\n",
      "23/23 [==============================] - 3s 121ms/step - loss: 1.8598e-04 - val_loss: 0.0046\n",
      "Epoch 50/100\n",
      "23/23 [==============================] - 3s 122ms/step - loss: 1.7676e-04 - val_loss: 0.0025\n",
      "Epoch 51/100\n",
      "23/23 [==============================] - 3s 122ms/step - loss: 1.7991e-04 - val_loss: 0.0048\n",
      "Epoch 52/100\n",
      "23/23 [==============================] - 3s 121ms/step - loss: 1.6840e-04 - val_loss: 0.0045\n",
      "Epoch 53/100\n",
      "23/23 [==============================] - 3s 121ms/step - loss: 1.8489e-04 - val_loss: 0.0062\n",
      "Epoch 54/100\n",
      "23/23 [==============================] - 3s 120ms/step - loss: 1.8160e-04 - val_loss: 0.0014\n",
      "Epoch 55/100\n",
      "23/23 [==============================] - 3s 119ms/step - loss: 1.8406e-04 - val_loss: 0.0032\n",
      "Epoch 56/100\n",
      "23/23 [==============================] - 3s 120ms/step - loss: 1.6021e-04 - val_loss: 0.0018\n",
      "Epoch 57/100\n",
      "23/23 [==============================] - 3s 119ms/step - loss: 1.5798e-04 - val_loss: 0.0030\n",
      "Epoch 58/100\n",
      "23/23 [==============================] - 3s 121ms/step - loss: 1.5455e-04 - val_loss: 0.0011\n",
      "Epoch 59/100\n",
      "23/23 [==============================] - 3s 128ms/step - loss: 1.5949e-04 - val_loss: 0.0025\n",
      "Epoch 60/100\n",
      "23/23 [==============================] - 3s 138ms/step - loss: 1.5894e-04 - val_loss: 0.0014\n",
      "Epoch 61/100\n",
      "23/23 [==============================] - 3s 123ms/step - loss: 1.5068e-04 - val_loss: 9.4802e-04\n",
      "Epoch 62/100\n",
      "23/23 [==============================] - 3s 120ms/step - loss: 1.5492e-04 - val_loss: 0.0027\n",
      "Epoch 63/100\n",
      "23/23 [==============================] - 3s 119ms/step - loss: 1.3727e-04 - val_loss: 0.0036\n",
      "Epoch 64/100\n",
      "23/23 [==============================] - 3s 119ms/step - loss: 1.5282e-04 - val_loss: 0.0012\n",
      "Epoch 65/100\n",
      "23/23 [==============================] - 3s 120ms/step - loss: 1.4199e-04 - val_loss: 0.0026\n",
      "Epoch 66/100\n",
      "23/23 [==============================] - 3s 121ms/step - loss: 1.3881e-04 - val_loss: 0.0028\n",
      "Epoch 67/100\n",
      "23/23 [==============================] - 3s 122ms/step - loss: 1.3215e-04 - val_loss: 0.0015\n",
      "Epoch 68/100\n",
      "23/23 [==============================] - 3s 123ms/step - loss: 1.3158e-04 - val_loss: 9.5227e-04\n",
      "Epoch 69/100\n",
      "23/23 [==============================] - 3s 120ms/step - loss: 1.3037e-04 - val_loss: 0.0040\n",
      "Epoch 70/100\n",
      "23/23 [==============================] - 3s 120ms/step - loss: 1.3390e-04 - val_loss: 0.0020\n",
      "Epoch 71/100\n",
      "23/23 [==============================] - 3s 120ms/step - loss: 1.4756e-04 - val_loss: 8.8349e-04\n",
      "Epoch 72/100\n",
      "23/23 [==============================] - 3s 120ms/step - loss: 1.6173e-04 - val_loss: 0.0017\n",
      "Epoch 73/100\n",
      "23/23 [==============================] - 3s 119ms/step - loss: 1.2387e-04 - val_loss: 0.0013\n",
      "Epoch 74/100\n",
      "23/23 [==============================] - 3s 120ms/step - loss: 1.2520e-04 - val_loss: 8.9837e-04\n",
      "Epoch 75/100\n",
      "23/23 [==============================] - 3s 120ms/step - loss: 1.2683e-04 - val_loss: 8.1716e-04\n",
      "Epoch 76/100\n",
      "23/23 [==============================] - 3s 120ms/step - loss: 1.2854e-04 - val_loss: 0.0016\n",
      "Epoch 77/100\n",
      "23/23 [==============================] - 3s 120ms/step - loss: 1.1645e-04 - val_loss: 0.0018\n",
      "Epoch 78/100\n"
     ]
    },
    {
     "name": "stdout",
     "output_type": "stream",
     "text": [
      "23/23 [==============================] - 3s 124ms/step - loss: 1.1419e-04 - val_loss: 0.0012\n",
      "Epoch 79/100\n",
      "23/23 [==============================] - 3s 122ms/step - loss: 1.2563e-04 - val_loss: 0.0010\n",
      "Epoch 80/100\n",
      "23/23 [==============================] - 3s 121ms/step - loss: 1.1679e-04 - val_loss: 0.0022\n",
      "Epoch 81/100\n",
      "23/23 [==============================] - 3s 138ms/step - loss: 1.3890e-04 - val_loss: 8.7211e-04\n",
      "Epoch 82/100\n",
      "23/23 [==============================] - 4s 162ms/step - loss: 1.2570e-04 - val_loss: 6.7656e-04\n",
      "Epoch 83/100\n",
      "23/23 [==============================] - 4s 159ms/step - loss: 1.1945e-04 - val_loss: 0.0010\n",
      "Epoch 84/100\n",
      "23/23 [==============================] - 3s 144ms/step - loss: 1.2257e-04 - val_loss: 0.0011\n",
      "Epoch 85/100\n",
      "23/23 [==============================] - 3s 120ms/step - loss: 1.1190e-04 - val_loss: 0.0014\n",
      "Epoch 86/100\n",
      "23/23 [==============================] - 3s 121ms/step - loss: 1.2150e-04 - val_loss: 7.4286e-04\n",
      "Epoch 87/100\n",
      "23/23 [==============================] - 3s 122ms/step - loss: 1.2321e-04 - val_loss: 0.0022\n",
      "Epoch 88/100\n",
      "23/23 [==============================] - 3s 121ms/step - loss: 1.1713e-04 - val_loss: 7.7609e-04\n",
      "Epoch 89/100\n",
      "23/23 [==============================] - 3s 121ms/step - loss: 1.2083e-04 - val_loss: 0.0022\n",
      "Epoch 90/100\n",
      "23/23 [==============================] - 3s 119ms/step - loss: 1.2019e-04 - val_loss: 0.0013\n",
      "Epoch 91/100\n",
      "23/23 [==============================] - 3s 121ms/step - loss: 1.1063e-04 - val_loss: 0.0016\n",
      "Epoch 92/100\n",
      "23/23 [==============================] - 3s 121ms/step - loss: 1.1640e-04 - val_loss: 8.6792e-04\n",
      "Epoch 93/100\n",
      "23/23 [==============================] - 3s 121ms/step - loss: 1.1075e-04 - val_loss: 0.0018\n",
      "Epoch 94/100\n",
      "23/23 [==============================] - 3s 120ms/step - loss: 1.1258e-04 - val_loss: 0.0014\n",
      "Epoch 95/100\n",
      "23/23 [==============================] - 3s 151ms/step - loss: 1.1979e-04 - val_loss: 0.0010\n",
      "Epoch 96/100\n",
      "23/23 [==============================] - 3s 122ms/step - loss: 1.1451e-04 - val_loss: 0.0013\n",
      "Epoch 97/100\n",
      "23/23 [==============================] - 3s 120ms/step - loss: 1.2589e-04 - val_loss: 8.5281e-04\n",
      "Epoch 98/100\n",
      "23/23 [==============================] - 3s 147ms/step - loss: 1.1097e-04 - val_loss: 5.6025e-04\n",
      "Epoch 99/100\n",
      "23/23 [==============================] - 3s 124ms/step - loss: 1.1823e-04 - val_loss: 4.5197e-04\n",
      "Epoch 100/100\n",
      "23/23 [==============================] - 3s 124ms/step - loss: 1.2382e-04 - val_loss: 0.0012\n"
     ]
    },
    {
     "data": {
      "text/plain": [
       "<tensorflow.python.keras.callbacks.History at 0x1c21493c3a0>"
      ]
     },
     "execution_count": 25,
     "metadata": {},
     "output_type": "execute_result"
    }
   ],
   "source": [
    "model.fit(x_train, y_train, validation_data = (x_test, y_test), epochs = 100, batch_size = 64, verbose = 1)"
   ]
  },
  {
   "cell_type": "code",
   "execution_count": 26,
   "id": "dbfef500-1462-48f4-82cd-68ef084a871f",
   "metadata": {},
   "outputs": [],
   "source": [
    "#predictions\n",
    "#Lets predict and check performance metrics\n",
    "train_predict = model.predict(x_train)\n",
    "test_predict = model.predict(x_test)"
   ]
  },
  {
   "cell_type": "code",
   "execution_count": 27,
   "id": "42d39091-8f60-4c8d-aaec-06a18201acfe",
   "metadata": {},
   "outputs": [],
   "source": [
    "#Transform back to original form\n",
    "train_predict = scaler.inverse_transform(train_predict)\n",
    "test_predict = scaler.inverse_transform(test_predict)"
   ]
  },
  {
   "cell_type": "code",
   "execution_count": 28,
   "id": "0988046f-3c79-41cb-b514-241367633d78",
   "metadata": {},
   "outputs": [
    {
     "data": {
      "text/plain": [
       "134.93013004696402"
      ]
     },
     "execution_count": 28,
     "metadata": {},
     "output_type": "execute_result"
    }
   ],
   "source": [
    "#Calculate RMSE performance metrics\n",
    "import math\n",
    "from sklearn.metrics import mean_squared_error\n",
    "math.sqrt(mean_squared_error(y_train, train_predict))"
   ]
  },
  {
   "cell_type": "code",
   "execution_count": 29,
   "id": "09873ed8-5cf0-4543-99e0-fec6d4206bca",
   "metadata": {},
   "outputs": [
    {
     "data": {
      "text/plain": [
       "226.47397778720185"
      ]
     },
     "execution_count": 29,
     "metadata": {},
     "output_type": "execute_result"
    }
   ],
   "source": [
    "#Test Data RMSE\n",
    "math.sqrt(mean_squared_error(y_test, test_predict))"
   ]
  },
  {
   "cell_type": "code",
   "execution_count": 30,
   "id": "feb2834d-d784-4c90-a032-23c20a1812cf",
   "metadata": {},
   "outputs": [],
   "source": [
    "#Plotting\n",
    "#Shift train prediction for plotting\n",
    "look_back = 100\n",
    "trainPredictPlot = np.empty_like(df_high)\n",
    "trainPredictPlot[:,:] = np.nan\n",
    "trainPredictPlot[look_back:len(train_predict) + look_back, :] = train_predict\n",
    "\n",
    "#Shift test prediction for plotting\n",
    "testPredictPlot = np.empty_like(df_high)\n",
    "testPredictPlot[:,:] = np.nan\n",
    "testPredictPlot[len(train_predict) + (look_back * 2)+1:len(df_high) - 1, :] = test_predict"
   ]
  },
  {
   "cell_type": "code",
   "execution_count": 31,
   "id": "1bda816b-edce-479c-a656-1f5b6396e34d",
   "metadata": {},
   "outputs": [
    {
     "data": {
      "image/png": "[encoded data removed]",
      "text/plain": [
       "<Figure size 432x288 with 1 Axes>"
      ]
     },
     "metadata": {
      "needs_background": "light"
     },
     "output_type": "display_data"
    },
    {
     "name": "stdout",
     "output_type": "stream",
     "text": [
      "Green indicates the Predicted Data\n",
      "Blue indicates the Complete Data\n",
      "Orange indicates the Train Data\n"
     ]
    }
   ],
   "source": [
    "#Plot baseline and predictions\n",
    "plt.plot(scaler.inverse_transform(df_high))\n",
    "plt.plot(trainPredictPlot)\n",
    "plt.plot(testPredictPlot)\n",
    "plt.show()\n",
    "\n",
    "print(\"Green indicates the Predicted Data\")\n",
    "print(\"Blue indicates the Complete Data\")\n",
    "print(\"Orange indicates the Train Data\")"
   ]
  },
  {
   "cell_type": "code",
   "execution_count": 32,
   "id": "2ecba64e-448d-4998-8b2e-ed3eb392a982",
   "metadata": {},
   "outputs": [
    {
     "data": {
      "text/plain": [
       "(509, (408, 100, 1))"
      ]
     },
     "execution_count": 32,
     "metadata": {},
     "output_type": "execute_result"
    }
   ],
   "source": [
    "#Predict the next 28 days Stock Price\n",
    "len(test_data), x_test.shape"
   ]
  },
  {
   "cell_type": "code",
   "execution_count": 33,
   "id": "01f277a5-8893-4f7a-b946-e66988384101",
   "metadata": {},
   "outputs": [
    {
     "data": {
      "text/plain": [
       "(1, 100)"
      ]
     },
     "execution_count": 33,
     "metadata": {},
     "output_type": "execute_result"
    }
   ],
   "source": [
    "x_input = test_data[409:].reshape(1,-1)\n",
    "x_input.shape"
   ]
  },
  {
   "cell_type": "code",
   "execution_count": 34,
   "id": "e811aa13-4166-4d3b-9750-4b9fb213fc67",
   "metadata": {},
   "outputs": [
    {
     "name": "stdout",
     "output_type": "stream",
     "text": [
      "[0.60351926]\n",
      "101\n",
      "1 day input [0.86013417 0.85464525 0.84448059 0.8072779  0.71843871 0.66192316\n",
      " 0.67696686 0.67554381 0.67310429 0.68428542 0.68936776 0.70217524\n",
      " 0.71803212 0.72941655 0.73144948 0.74486684 0.76926205 0.75991055\n",
      " 0.74242732 0.73958122 0.74771295 0.75991055 0.7584875  0.76621264\n",
      " 0.75462492 0.76316324 0.79670665 0.80585485 0.7889815  0.78003659\n",
      " 0.73978451 0.73002643 0.73490547 0.74872942 0.75991055 0.75462492\n",
      " 0.75401504 0.76174019 0.7737345  0.82008538 0.80585485 0.81154706\n",
      " 0.77434438 0.78633869 0.79284407 0.78328929 0.77109169 0.74385038\n",
      " 0.71193332 0.68733482 0.67818662 0.65257166 0.64301687 0.65643423\n",
      " 0.67656028 0.67371417 0.65114861 0.65521447 0.66761537 0.67838992\n",
      " 0.69993901 0.63122586 0.63508843 0.64098394 0.64545639 0.64118723\n",
      " 0.63854442 0.63081927 0.62472047 0.6330555  0.64728603 0.6574507\n",
      " 0.66761537 0.66720878 0.64159382 0.62776987 0.63651149 0.63630819\n",
      " 0.62980281 0.62817646 0.63813783 0.65358813 0.63183574 0.57653995\n",
      " 0.57816629 0.57613336 0.61943484 0.57979264 0.57288067 0.62573694\n",
      " 0.63102257 0.6361049  0.62776987 0.6269567  0.63590161 0.62594023\n",
      " 0.6391543  0.62614353 0.62268754 0.60351926]\n",
      "1 day output [[0.57056576]]\n",
      "2 day input [0.85464525 0.84448059 0.8072779  0.71843871 0.66192316 0.67696686\n",
      " 0.67554381 0.67310429 0.68428542 0.68936776 0.70217524 0.71803212\n",
      " 0.72941655 0.73144948 0.74486684 0.76926205 0.75991055 0.74242732\n",
      " 0.73958122 0.74771295 0.75991055 0.7584875  0.76621264 0.75462492\n",
      " 0.76316324 0.79670665 0.80585485 0.7889815  0.78003659 0.73978451\n",
      " 0.73002643 0.73490547 0.74872942 0.75991055 0.75462492 0.75401504\n",
      " 0.76174019 0.7737345  0.82008538 0.80585485 0.81154706 0.77434438\n",
      " 0.78633869 0.79284407 0.78328929 0.77109169 0.74385038 0.71193332\n",
      " 0.68733482 0.67818662 0.65257166 0.64301687 0.65643423 0.67656028\n",
      " 0.67371417 0.65114861 0.65521447 0.66761537 0.67838992 0.69993901\n",
      " 0.63122586 0.63508843 0.64098394 0.64545639 0.64118723 0.63854442\n",
      " 0.63081927 0.62472047 0.6330555  0.64728603 0.6574507  0.66761537\n",
      " 0.66720878 0.64159382 0.62776987 0.63651149 0.63630819 0.62980281\n",
      " 0.62817646 0.63813783 0.65358813 0.63183574 0.57653995 0.57816629\n",
      " 0.57613336 0.61943484 0.57979264 0.57288067 0.62573694 0.63102257\n",
      " 0.6361049  0.62776987 0.6269567  0.63590161 0.62594023 0.6391543\n",
      " 0.62614353 0.62268754 0.60351926 0.57056576]\n",
      "2 day output [[0.5367772]]\n",
      "3 day input [0.84448059 0.8072779  0.71843871 0.66192316 0.67696686 0.67554381\n",
      " 0.67310429 0.68428542 0.68936776 0.70217524 0.71803212 0.72941655\n",
      " 0.73144948 0.74486684 0.76926205 0.75991055 0.74242732 0.73958122\n",
      " 0.74771295 0.75991055 0.7584875  0.76621264 0.75462492 0.76316324\n",
      " 0.79670665 0.80585485 0.7889815  0.78003659 0.73978451 0.73002643\n",
      " 0.73490547 0.74872942 0.75991055 0.75462492 0.75401504 0.76174019\n",
      " 0.7737345  0.82008538 0.80585485 0.81154706 0.77434438 0.78633869\n",
      " 0.79284407 0.78328929 0.77109169 0.74385038 0.71193332 0.68733482\n",
      " 0.67818662 0.65257166 0.64301687 0.65643423 0.67656028 0.67371417\n",
      " 0.65114861 0.65521447 0.66761537 0.67838992 0.69993901 0.63122586\n",
      " 0.63508843 0.64098394 0.64545639 0.64118723 0.63854442 0.63081927\n",
      " 0.62472047 0.6330555  0.64728603 0.6574507  0.66761537 0.66720878\n",
      " 0.64159382 0.62776987 0.63651149 0.63630819 0.62980281 0.62817646\n",
      " 0.63813783 0.65358813 0.63183574 0.57653995 0.57816629 0.57613336\n",
      " 0.61943484 0.57979264 0.57288067 0.62573694 0.63102257 0.6361049\n",
      " 0.62776987 0.6269567  0.63590161 0.62594023 0.6391543  0.62614353\n",
      " 0.62268754 0.60351926 0.57056576 0.5367772 ]\n",
      "3 day output [[0.50608665]]\n",
      "4 day input [0.8072779  0.71843871 0.66192316 0.67696686 0.67554381 0.67310429\n",
      " 0.68428542 0.68936776 0.70217524 0.71803212 0.72941655 0.73144948\n",
      " 0.74486684 0.76926205 0.75991055 0.74242732 0.73958122 0.74771295\n",
      " 0.75991055 0.7584875  0.76621264 0.75462492 0.76316324 0.79670665\n",
      " 0.80585485 0.7889815  0.78003659 0.73978451 0.73002643 0.73490547\n",
      " 0.74872942 0.75991055 0.75462492 0.75401504 0.76174019 0.7737345\n",
      " 0.82008538 0.80585485 0.81154706 0.77434438 0.78633869 0.79284407\n",
      " 0.78328929 0.77109169 0.74385038 0.71193332 0.68733482 0.67818662\n",
      " 0.65257166 0.64301687 0.65643423 0.67656028 0.67371417 0.65114861\n",
      " 0.65521447 0.66761537 0.67838992 0.69993901 0.63122586 0.63508843\n",
      " 0.64098394 0.64545639 0.64118723 0.63854442 0.63081927 0.62472047\n",
      " 0.6330555  0.64728603 0.6574507  0.66761537 0.66720878 0.64159382\n",
      " 0.62776987 0.63651149 0.63630819 0.62980281 0.62817646 0.63813783\n",
      " 0.65358813 0.63183574 0.57653995 0.57816629 0.57613336 0.61943484\n",
      " 0.57979264 0.57288067 0.62573694 0.63102257 0.6361049  0.62776987\n",
      " 0.6269567  0.63590161 0.62594023 0.6391543  0.62614353 0.62268754\n",
      " 0.60351926 0.57056576 0.5367772  0.50608665]\n",
      "4 day output [[0.47932872]]\n",
      "5 day input [0.71843871 0.66192316 0.67696686 0.67554381 0.67310429 0.68428542\n",
      " 0.68936776 0.70217524 0.71803212 0.72941655 0.73144948 0.74486684\n",
      " 0.76926205 0.75991055 0.74242732 0.73958122 0.74771295 0.75991055\n",
      " 0.7584875  0.76621264 0.75462492 0.76316324 0.79670665 0.80585485\n",
      " 0.7889815  0.78003659 0.73978451 0.73002643 0.73490547 0.74872942\n",
      " 0.75991055 0.75462492 0.75401504 0.76174019 0.7737345  0.82008538\n",
      " 0.80585485 0.81154706 0.77434438 0.78633869 0.79284407 0.78328929\n",
      " 0.77109169 0.74385038 0.71193332 0.68733482 0.67818662 0.65257166\n",
      " 0.64301687 0.65643423 0.67656028 0.67371417 0.65114861 0.65521447\n",
      " 0.66761537 0.67838992 0.69993901 0.63122586 0.63508843 0.64098394\n",
      " 0.64545639 0.64118723 0.63854442 0.63081927 0.62472047 0.6330555\n",
      " 0.64728603 0.6574507  0.66761537 0.66720878 0.64159382 0.62776987\n",
      " 0.63651149 0.63630819 0.62980281 0.62817646 0.63813783 0.65358813\n",
      " 0.63183574 0.57653995 0.57816629 0.57613336 0.61943484 0.57979264\n",
      " 0.57288067 0.62573694 0.63102257 0.6361049  0.62776987 0.6269567\n",
      " 0.63590161 0.62594023 0.6391543  0.62614353 0.62268754 0.60351926\n",
      " 0.57056576 0.5367772  0.50608665 0.47932872]\n",
      "5 day output [[0.4565004]]\n",
      "6 day input [0.66192316 0.67696686 0.67554381 0.67310429 0.68428542 0.68936776\n",
      " 0.70217524 0.71803212 0.72941655 0.73144948 0.74486684 0.76926205\n",
      " 0.75991055 0.74242732 0.73958122 0.74771295 0.75991055 0.7584875\n",
      " 0.76621264 0.75462492 0.76316324 0.79670665 0.80585485 0.7889815\n",
      " 0.78003659 0.73978451 0.73002643 0.73490547 0.74872942 0.75991055\n",
      " 0.75462492 0.75401504 0.76174019 0.7737345  0.82008538 0.80585485\n",
      " 0.81154706 0.77434438 0.78633869 0.79284407 0.78328929 0.77109169\n",
      " 0.74385038 0.71193332 0.68733482 0.67818662 0.65257166 0.64301687\n",
      " 0.65643423 0.67656028 0.67371417 0.65114861 0.65521447 0.66761537\n",
      " 0.67838992 0.69993901 0.63122586 0.63508843 0.64098394 0.64545639\n",
      " 0.64118723 0.63854442 0.63081927 0.62472047 0.6330555  0.64728603\n",
      " 0.6574507  0.66761537 0.66720878 0.64159382 0.62776987 0.63651149\n",
      " 0.63630819 0.62980281 0.62817646 0.63813783 0.65358813 0.63183574\n",
      " 0.57653995 0.57816629 0.57613336 0.61943484 0.57979264 0.57288067\n",
      " 0.62573694 0.63102257 0.6361049  0.62776987 0.6269567  0.63590161\n",
      " 0.62594023 0.6391543  0.62614353 0.62268754 0.60351926 0.57056576\n",
      " 0.5367772  0.50608665 0.47932872 0.45650041]\n",
      "6 day output [[0.43714076]]\n",
      "7 day input [0.67696686 0.67554381 0.67310429 0.68428542 0.68936776 0.70217524\n",
      " 0.71803212 0.72941655 0.73144948 0.74486684 0.76926205 0.75991055\n",
      " 0.74242732 0.73958122 0.74771295 0.75991055 0.7584875  0.76621264\n",
      " 0.75462492 0.76316324 0.79670665 0.80585485 0.7889815  0.78003659\n",
      " 0.73978451 0.73002643 0.73490547 0.74872942 0.75991055 0.75462492\n",
      " 0.75401504 0.76174019 0.7737345  0.82008538 0.80585485 0.81154706\n",
      " 0.77434438 0.78633869 0.79284407 0.78328929 0.77109169 0.74385038\n",
      " 0.71193332 0.68733482 0.67818662 0.65257166 0.64301687 0.65643423\n",
      " 0.67656028 0.67371417 0.65114861 0.65521447 0.66761537 0.67838992\n",
      " 0.69993901 0.63122586 0.63508843 0.64098394 0.64545639 0.64118723\n",
      " 0.63854442 0.63081927 0.62472047 0.6330555  0.64728603 0.6574507\n",
      " 0.66761537 0.66720878 0.64159382 0.62776987 0.63651149 0.63630819\n",
      " 0.62980281 0.62817646 0.63813783 0.65358813 0.63183574 0.57653995\n",
      " 0.57816629 0.57613336 0.61943484 0.57979264 0.57288067 0.62573694\n",
      " 0.63102257 0.6361049  0.62776987 0.6269567  0.63590161 0.62594023\n",
      " 0.6391543  0.62614353 0.62268754 0.60351926 0.57056576 0.5367772\n",
      " 0.50608665 0.47932872 0.45650041 0.43714076]\n",
      "7 day output [[0.42068487]]\n",
      "8 day input [0.67554381 0.67310429 0.68428542 0.68936776 0.70217524 0.71803212\n",
      " 0.72941655 0.73144948 0.74486684 0.76926205 0.75991055 0.74242732\n",
      " 0.73958122 0.74771295 0.75991055 0.7584875  0.76621264 0.75462492\n",
      " 0.76316324 0.79670665 0.80585485 0.7889815  0.78003659 0.73978451\n",
      " 0.73002643 0.73490547 0.74872942 0.75991055 0.75462492 0.75401504\n",
      " 0.76174019 0.7737345  0.82008538 0.80585485 0.81154706 0.77434438\n",
      " 0.78633869 0.79284407 0.78328929 0.77109169 0.74385038 0.71193332\n",
      " 0.68733482 0.67818662 0.65257166 0.64301687 0.65643423 0.67656028\n",
      " 0.67371417 0.65114861 0.65521447 0.66761537 0.67838992 0.69993901\n",
      " 0.63122586 0.63508843 0.64098394 0.64545639 0.64118723 0.63854442\n",
      " 0.63081927 0.62472047 0.6330555  0.64728603 0.6574507  0.66761537\n",
      " 0.66720878 0.64159382 0.62776987 0.63651149 0.63630819 0.62980281\n",
      " 0.62817646 0.63813783 0.65358813 0.63183574 0.57653995 0.57816629\n",
      " 0.57613336 0.61943484 0.57979264 0.57288067 0.62573694 0.63102257\n",
      " 0.6361049  0.62776987 0.6269567  0.63590161 0.62594023 0.6391543\n",
      " 0.62614353 0.62268754 0.60351926 0.57056576 0.5367772  0.50608665\n",
      " 0.47932872 0.45650041 0.43714076 0.42068487]\n"
     ]
    },
    {
     "name": "stdout",
     "output_type": "stream",
     "text": [
      "8 day output [[0.40662998]]\n",
      "9 day input [0.67310429 0.68428542 0.68936776 0.70217524 0.71803212 0.72941655\n",
      " 0.73144948 0.74486684 0.76926205 0.75991055 0.74242732 0.73958122\n",
      " 0.74771295 0.75991055 0.7584875  0.76621264 0.75462492 0.76316324\n",
      " 0.79670665 0.80585485 0.7889815  0.78003659 0.73978451 0.73002643\n",
      " 0.73490547 0.74872942 0.75991055 0.75462492 0.75401504 0.76174019\n",
      " 0.7737345  0.82008538 0.80585485 0.81154706 0.77434438 0.78633869\n",
      " 0.79284407 0.78328929 0.77109169 0.74385038 0.71193332 0.68733482\n",
      " 0.67818662 0.65257166 0.64301687 0.65643423 0.67656028 0.67371417\n",
      " 0.65114861 0.65521447 0.66761537 0.67838992 0.69993901 0.63122586\n",
      " 0.63508843 0.64098394 0.64545639 0.64118723 0.63854442 0.63081927\n",
      " 0.62472047 0.6330555  0.64728603 0.6574507  0.66761537 0.66720878\n",
      " 0.64159382 0.62776987 0.63651149 0.63630819 0.62980281 0.62817646\n",
      " 0.63813783 0.65358813 0.63183574 0.57653995 0.57816629 0.57613336\n",
      " 0.61943484 0.57979264 0.57288067 0.62573694 0.63102257 0.6361049\n",
      " 0.62776987 0.6269567  0.63590161 0.62594023 0.6391543  0.62614353\n",
      " 0.62268754 0.60351926 0.57056576 0.5367772  0.50608665 0.47932872\n",
      " 0.45650041 0.43714076 0.42068487 0.40662998]\n",
      "9 day output [[0.39452267]]\n",
      "10 day input [0.68428542 0.68936776 0.70217524 0.71803212 0.72941655 0.73144948\n",
      " 0.74486684 0.76926205 0.75991055 0.74242732 0.73958122 0.74771295\n",
      " 0.75991055 0.7584875  0.76621264 0.75462492 0.76316324 0.79670665\n",
      " 0.80585485 0.7889815  0.78003659 0.73978451 0.73002643 0.73490547\n",
      " 0.74872942 0.75991055 0.75462492 0.75401504 0.76174019 0.7737345\n",
      " 0.82008538 0.80585485 0.81154706 0.77434438 0.78633869 0.79284407\n",
      " 0.78328929 0.77109169 0.74385038 0.71193332 0.68733482 0.67818662\n",
      " 0.65257166 0.64301687 0.65643423 0.67656028 0.67371417 0.65114861\n",
      " 0.65521447 0.66761537 0.67838992 0.69993901 0.63122586 0.63508843\n",
      " 0.64098394 0.64545639 0.64118723 0.63854442 0.63081927 0.62472047\n",
      " 0.6330555  0.64728603 0.6574507  0.66761537 0.66720878 0.64159382\n",
      " 0.62776987 0.63651149 0.63630819 0.62980281 0.62817646 0.63813783\n",
      " 0.65358813 0.63183574 0.57653995 0.57816629 0.57613336 0.61943484\n",
      " 0.57979264 0.57288067 0.62573694 0.63102257 0.6361049  0.62776987\n",
      " 0.6269567  0.63590161 0.62594023 0.6391543  0.62614353 0.62268754\n",
      " 0.60351926 0.57056576 0.5367772  0.50608665 0.47932872 0.45650041\n",
      " 0.43714076 0.42068487 0.40662998 0.39452267]\n",
      "10 day output [[0.3839884]]\n",
      "11 day input [0.68936776 0.70217524 0.71803212 0.72941655 0.73144948 0.74486684\n",
      " 0.76926205 0.75991055 0.74242732 0.73958122 0.74771295 0.75991055\n",
      " 0.7584875  0.76621264 0.75462492 0.76316324 0.79670665 0.80585485\n",
      " 0.7889815  0.78003659 0.73978451 0.73002643 0.73490547 0.74872942\n",
      " 0.75991055 0.75462492 0.75401504 0.76174019 0.7737345  0.82008538\n",
      " 0.80585485 0.81154706 0.77434438 0.78633869 0.79284407 0.78328929\n",
      " 0.77109169 0.74385038 0.71193332 0.68733482 0.67818662 0.65257166\n",
      " 0.64301687 0.65643423 0.67656028 0.67371417 0.65114861 0.65521447\n",
      " 0.66761537 0.67838992 0.69993901 0.63122586 0.63508843 0.64098394\n",
      " 0.64545639 0.64118723 0.63854442 0.63081927 0.62472047 0.6330555\n",
      " 0.64728603 0.6574507  0.66761537 0.66720878 0.64159382 0.62776987\n",
      " 0.63651149 0.63630819 0.62980281 0.62817646 0.63813783 0.65358813\n",
      " 0.63183574 0.57653995 0.57816629 0.57613336 0.61943484 0.57979264\n",
      " 0.57288067 0.62573694 0.63102257 0.6361049  0.62776987 0.6269567\n",
      " 0.63590161 0.62594023 0.6391543  0.62614353 0.62268754 0.60351926\n",
      " 0.57056576 0.5367772  0.50608665 0.47932872 0.45650041 0.43714076\n",
      " 0.42068487 0.40662998 0.39452267 0.38398841]\n",
      "11 day output [[0.374896]]\n",
      "12 day input [0.70217524 0.71803212 0.72941655 0.73144948 0.74486684 0.76926205\n",
      " 0.75991055 0.74242732 0.73958122 0.74771295 0.75991055 0.7584875\n",
      " 0.76621264 0.75462492 0.76316324 0.79670665 0.80585485 0.7889815\n",
      " 0.78003659 0.73978451 0.73002643 0.73490547 0.74872942 0.75991055\n",
      " 0.75462492 0.75401504 0.76174019 0.7737345  0.82008538 0.80585485\n",
      " 0.81154706 0.77434438 0.78633869 0.79284407 0.78328929 0.77109169\n",
      " 0.74385038 0.71193332 0.68733482 0.67818662 0.65257166 0.64301687\n",
      " 0.65643423 0.67656028 0.67371417 0.65114861 0.65521447 0.66761537\n",
      " 0.67838992 0.69993901 0.63122586 0.63508843 0.64098394 0.64545639\n",
      " 0.64118723 0.63854442 0.63081927 0.62472047 0.6330555  0.64728603\n",
      " 0.6574507  0.66761537 0.66720878 0.64159382 0.62776987 0.63651149\n",
      " 0.63630819 0.62980281 0.62817646 0.63813783 0.65358813 0.63183574\n",
      " 0.57653995 0.57816629 0.57613336 0.61943484 0.57979264 0.57288067\n",
      " 0.62573694 0.63102257 0.6361049  0.62776987 0.6269567  0.63590161\n",
      " 0.62594023 0.6391543  0.62614353 0.62268754 0.60351926 0.57056576\n",
      " 0.5367772  0.50608665 0.47932872 0.45650041 0.43714076 0.42068487\n",
      " 0.40662998 0.39452267 0.38398841 0.37489599]\n",
      "12 day output [[0.36706257]]\n",
      "13 day input [0.71803212 0.72941655 0.73144948 0.74486684 0.76926205 0.75991055\n",
      " 0.74242732 0.73958122 0.74771295 0.75991055 0.7584875  0.76621264\n",
      " 0.75462492 0.76316324 0.79670665 0.80585485 0.7889815  0.78003659\n",
      " 0.73978451 0.73002643 0.73490547 0.74872942 0.75991055 0.75462492\n",
      " 0.75401504 0.76174019 0.7737345  0.82008538 0.80585485 0.81154706\n",
      " 0.77434438 0.78633869 0.79284407 0.78328929 0.77109169 0.74385038\n",
      " 0.71193332 0.68733482 0.67818662 0.65257166 0.64301687 0.65643423\n",
      " 0.67656028 0.67371417 0.65114861 0.65521447 0.66761537 0.67838992\n",
      " 0.69993901 0.63122586 0.63508843 0.64098394 0.64545639 0.64118723\n",
      " 0.63854442 0.63081927 0.62472047 0.6330555  0.64728603 0.6574507\n",
      " 0.66761537 0.66720878 0.64159382 0.62776987 0.63651149 0.63630819\n",
      " 0.62980281 0.62817646 0.63813783 0.65358813 0.63183574 0.57653995\n",
      " 0.57816629 0.57613336 0.61943484 0.57979264 0.57288067 0.62573694\n",
      " 0.63102257 0.6361049  0.62776987 0.6269567  0.63590161 0.62594023\n",
      " 0.6391543  0.62614353 0.62268754 0.60351926 0.57056576 0.5367772\n",
      " 0.50608665 0.47932872 0.45650041 0.43714076 0.42068487 0.40662998\n",
      " 0.39452267 0.38398841 0.37489599 0.36706257]\n",
      "13 day output [[0.36026505]]\n",
      "14 day input [0.72941655 0.73144948 0.74486684 0.76926205 0.75991055 0.74242732\n",
      " 0.73958122 0.74771295 0.75991055 0.7584875  0.76621264 0.75462492\n",
      " 0.76316324 0.79670665 0.80585485 0.7889815  0.78003659 0.73978451\n",
      " 0.73002643 0.73490547 0.74872942 0.75991055 0.75462492 0.75401504\n",
      " 0.76174019 0.7737345  0.82008538 0.80585485 0.81154706 0.77434438\n",
      " 0.78633869 0.79284407 0.78328929 0.77109169 0.74385038 0.71193332\n",
      " 0.68733482 0.67818662 0.65257166 0.64301687 0.65643423 0.67656028\n",
      " 0.67371417 0.65114861 0.65521447 0.66761537 0.67838992 0.69993901\n",
      " 0.63122586 0.63508843 0.64098394 0.64545639 0.64118723 0.63854442\n",
      " 0.63081927 0.62472047 0.6330555  0.64728603 0.6574507  0.66761537\n",
      " 0.66720878 0.64159382 0.62776987 0.63651149 0.63630819 0.62980281\n",
      " 0.62817646 0.63813783 0.65358813 0.63183574 0.57653995 0.57816629\n",
      " 0.57613336 0.61943484 0.57979264 0.57288067 0.62573694 0.63102257\n",
      " 0.6361049  0.62776987 0.6269567  0.63590161 0.62594023 0.6391543\n",
      " 0.62614353 0.62268754 0.60351926 0.57056576 0.5367772  0.50608665\n",
      " 0.47932872 0.45650041 0.43714076 0.42068487 0.40662998 0.39452267\n",
      " 0.38398841 0.37489599 0.36706257 0.36026505]\n",
      "14 day output [[0.3542796]]\n",
      "15 day input [0.73144948 0.74486684 0.76926205 0.75991055 0.74242732 0.73958122\n",
      " 0.74771295 0.75991055 0.7584875  0.76621264 0.75462492 0.76316324\n",
      " 0.79670665 0.80585485 0.7889815  0.78003659 0.73978451 0.73002643\n",
      " 0.73490547 0.74872942 0.75991055 0.75462492 0.75401504 0.76174019\n",
      " 0.7737345  0.82008538 0.80585485 0.81154706 0.77434438 0.78633869\n",
      " 0.79284407 0.78328929 0.77109169 0.74385038 0.71193332 0.68733482\n",
      " 0.67818662 0.65257166 0.64301687 0.65643423 0.67656028 0.67371417\n",
      " 0.65114861 0.65521447 0.66761537 0.67838992 0.69993901 0.63122586\n",
      " 0.63508843 0.64098394 0.64545639 0.64118723 0.63854442 0.63081927\n",
      " 0.62472047 0.6330555  0.64728603 0.6574507  0.66761537 0.66720878\n",
      " 0.64159382 0.62776987 0.63651149 0.63630819 0.62980281 0.62817646\n",
      " 0.63813783 0.65358813 0.63183574 0.57653995 0.57816629 0.57613336\n",
      " 0.61943484 0.57979264 0.57288067 0.62573694 0.63102257 0.6361049\n",
      " 0.62776987 0.6269567  0.63590161 0.62594023 0.6391543  0.62614353\n",
      " 0.62268754 0.60351926 0.57056576 0.5367772  0.50608665 0.47932872\n",
      " 0.45650041 0.43714076 0.42068487 0.40662998 0.39452267 0.38398841\n",
      " 0.37489599 0.36706257 0.36026505 0.35427961]\n",
      "15 day output [[0.3489046]]\n",
      "16 day input [0.74486684 0.76926205 0.75991055 0.74242732 0.73958122 0.74771295\n",
      " 0.75991055 0.7584875  0.76621264 0.75462492 0.76316324 0.79670665\n",
      " 0.80585485 0.7889815  0.78003659 0.73978451 0.73002643 0.73490547\n",
      " 0.74872942 0.75991055 0.75462492 0.75401504 0.76174019 0.7737345\n",
      " 0.82008538 0.80585485 0.81154706 0.77434438 0.78633869 0.79284407\n",
      " 0.78328929 0.77109169 0.74385038 0.71193332 0.68733482 0.67818662\n",
      " 0.65257166 0.64301687 0.65643423 0.67656028 0.67371417 0.65114861\n",
      " 0.65521447 0.66761537 0.67838992 0.69993901 0.63122586 0.63508843\n",
      " 0.64098394 0.64545639 0.64118723 0.63854442 0.63081927 0.62472047\n",
      " 0.6330555  0.64728603 0.6574507  0.66761537 0.66720878 0.64159382\n",
      " 0.62776987 0.63651149 0.63630819 0.62980281 0.62817646 0.63813783\n",
      " 0.65358813 0.63183574 0.57653995 0.57816629 0.57613336 0.61943484\n",
      " 0.57979264 0.57288067 0.62573694 0.63102257 0.6361049  0.62776987\n",
      " 0.6269567  0.63590161 0.62594023 0.6391543  0.62614353 0.62268754\n",
      " 0.60351926 0.57056576 0.5367772  0.50608665 0.47932872 0.45650041\n",
      " 0.43714076 0.42068487 0.40662998 0.39452267 0.38398841 0.37489599\n",
      " 0.36706257 0.36026505 0.35427961 0.34890461]\n",
      "16 day output [[0.34397343]]\n",
      "17 day input [0.76926205 0.75991055 0.74242732 0.73958122 0.74771295 0.75991055\n",
      " 0.7584875  0.76621264 0.75462492 0.76316324 0.79670665 0.80585485\n",
      " 0.7889815  0.78003659 0.73978451 0.73002643 0.73490547 0.74872942\n",
      " 0.75991055 0.75462492 0.75401504 0.76174019 0.7737345  0.82008538\n",
      " 0.80585485 0.81154706 0.77434438 0.78633869 0.79284407 0.78328929\n",
      " 0.77109169 0.74385038 0.71193332 0.68733482 0.67818662 0.65257166\n",
      " 0.64301687 0.65643423 0.67656028 0.67371417 0.65114861 0.65521447\n",
      " 0.66761537 0.67838992 0.69993901 0.63122586 0.63508843 0.64098394\n",
      " 0.64545639 0.64118723 0.63854442 0.63081927 0.62472047 0.6330555\n",
      " 0.64728603 0.6574507  0.66761537 0.66720878 0.64159382 0.62776987\n",
      " 0.63651149 0.63630819 0.62980281 0.62817646 0.63813783 0.65358813\n",
      " 0.63183574 0.57653995 0.57816629 0.57613336 0.61943484 0.57979264\n",
      " 0.57288067 0.62573694 0.63102257 0.6361049  0.62776987 0.6269567\n",
      " 0.63590161 0.62594023 0.6391543  0.62614353 0.62268754 0.60351926\n",
      " 0.57056576 0.5367772  0.50608665 0.47932872 0.45650041 0.43714076\n",
      " 0.42068487 0.40662998 0.39452267 0.38398841 0.37489599 0.36706257\n",
      " 0.36026505 0.35427961 0.34890461 0.34397343]\n"
     ]
    },
    {
     "name": "stdout",
     "output_type": "stream",
     "text": [
      "17 day output [[0.33935922]]\n",
      "18 day input [0.75991055 0.74242732 0.73958122 0.74771295 0.75991055 0.7584875\n",
      " 0.76621264 0.75462492 0.76316324 0.79670665 0.80585485 0.7889815\n",
      " 0.78003659 0.73978451 0.73002643 0.73490547 0.74872942 0.75991055\n",
      " 0.75462492 0.75401504 0.76174019 0.7737345  0.82008538 0.80585485\n",
      " 0.81154706 0.77434438 0.78633869 0.79284407 0.78328929 0.77109169\n",
      " 0.74385038 0.71193332 0.68733482 0.67818662 0.65257166 0.64301687\n",
      " 0.65643423 0.67656028 0.67371417 0.65114861 0.65521447 0.66761537\n",
      " 0.67838992 0.69993901 0.63122586 0.63508843 0.64098394 0.64545639\n",
      " 0.64118723 0.63854442 0.63081927 0.62472047 0.6330555  0.64728603\n",
      " 0.6574507  0.66761537 0.66720878 0.64159382 0.62776987 0.63651149\n",
      " 0.63630819 0.62980281 0.62817646 0.63813783 0.65358813 0.63183574\n",
      " 0.57653995 0.57816629 0.57613336 0.61943484 0.57979264 0.57288067\n",
      " 0.62573694 0.63102257 0.6361049  0.62776987 0.6269567  0.63590161\n",
      " 0.62594023 0.6391543  0.62614353 0.62268754 0.60351926 0.57056576\n",
      " 0.5367772  0.50608665 0.47932872 0.45650041 0.43714076 0.42068487\n",
      " 0.40662998 0.39452267 0.38398841 0.37489599 0.36706257 0.36026505\n",
      " 0.35427961 0.34890461 0.34397343 0.33935922]\n",
      "18 day output [[0.33497247]]\n",
      "19 day input [0.74242732 0.73958122 0.74771295 0.75991055 0.7584875  0.76621264\n",
      " 0.75462492 0.76316324 0.79670665 0.80585485 0.7889815  0.78003659\n",
      " 0.73978451 0.73002643 0.73490547 0.74872942 0.75991055 0.75462492\n",
      " 0.75401504 0.76174019 0.7737345  0.82008538 0.80585485 0.81154706\n",
      " 0.77434438 0.78633869 0.79284407 0.78328929 0.77109169 0.74385038\n",
      " 0.71193332 0.68733482 0.67818662 0.65257166 0.64301687 0.65643423\n",
      " 0.67656028 0.67371417 0.65114861 0.65521447 0.66761537 0.67838992\n",
      " 0.69993901 0.63122586 0.63508843 0.64098394 0.64545639 0.64118723\n",
      " 0.63854442 0.63081927 0.62472047 0.6330555  0.64728603 0.6574507\n",
      " 0.66761537 0.66720878 0.64159382 0.62776987 0.63651149 0.63630819\n",
      " 0.62980281 0.62817646 0.63813783 0.65358813 0.63183574 0.57653995\n",
      " 0.57816629 0.57613336 0.61943484 0.57979264 0.57288067 0.62573694\n",
      " 0.63102257 0.6361049  0.62776987 0.6269567  0.63590161 0.62594023\n",
      " 0.6391543  0.62614353 0.62268754 0.60351926 0.57056576 0.5367772\n",
      " 0.50608665 0.47932872 0.45650041 0.43714076 0.42068487 0.40662998\n",
      " 0.39452267 0.38398841 0.37489599 0.36706257 0.36026505 0.35427961\n",
      " 0.34890461 0.34397343 0.33935922 0.33497247]\n",
      "19 day output [[0.33075377]]\n",
      "20 day input [0.73958122 0.74771295 0.75991055 0.7584875  0.76621264 0.75462492\n",
      " 0.76316324 0.79670665 0.80585485 0.7889815  0.78003659 0.73978451\n",
      " 0.73002643 0.73490547 0.74872942 0.75991055 0.75462492 0.75401504\n",
      " 0.76174019 0.7737345  0.82008538 0.80585485 0.81154706 0.77434438\n",
      " 0.78633869 0.79284407 0.78328929 0.77109169 0.74385038 0.71193332\n",
      " 0.68733482 0.67818662 0.65257166 0.64301687 0.65643423 0.67656028\n",
      " 0.67371417 0.65114861 0.65521447 0.66761537 0.67838992 0.69993901\n",
      " 0.63122586 0.63508843 0.64098394 0.64545639 0.64118723 0.63854442\n",
      " 0.63081927 0.62472047 0.6330555  0.64728603 0.6574507  0.66761537\n",
      " 0.66720878 0.64159382 0.62776987 0.63651149 0.63630819 0.62980281\n",
      " 0.62817646 0.63813783 0.65358813 0.63183574 0.57653995 0.57816629\n",
      " 0.57613336 0.61943484 0.57979264 0.57288067 0.62573694 0.63102257\n",
      " 0.6361049  0.62776987 0.6269567  0.63590161 0.62594023 0.6391543\n",
      " 0.62614353 0.62268754 0.60351926 0.57056576 0.5367772  0.50608665\n",
      " 0.47932872 0.45650041 0.43714076 0.42068487 0.40662998 0.39452267\n",
      " 0.38398841 0.37489599 0.36706257 0.36026505 0.35427961 0.34890461\n",
      " 0.34397343 0.33935922 0.33497247 0.33075377]\n",
      "20 day output [[0.32666686]]\n",
      "21 day input [0.74771295 0.75991055 0.7584875  0.76621264 0.75462492 0.76316324\n",
      " 0.79670665 0.80585485 0.7889815  0.78003659 0.73978451 0.73002643\n",
      " 0.73490547 0.74872942 0.75991055 0.75462492 0.75401504 0.76174019\n",
      " 0.7737345  0.82008538 0.80585485 0.81154706 0.77434438 0.78633869\n",
      " 0.79284407 0.78328929 0.77109169 0.74385038 0.71193332 0.68733482\n",
      " 0.67818662 0.65257166 0.64301687 0.65643423 0.67656028 0.67371417\n",
      " 0.65114861 0.65521447 0.66761537 0.67838992 0.69993901 0.63122586\n",
      " 0.63508843 0.64098394 0.64545639 0.64118723 0.63854442 0.63081927\n",
      " 0.62472047 0.6330555  0.64728603 0.6574507  0.66761537 0.66720878\n",
      " 0.64159382 0.62776987 0.63651149 0.63630819 0.62980281 0.62817646\n",
      " 0.63813783 0.65358813 0.63183574 0.57653995 0.57816629 0.57613336\n",
      " 0.61943484 0.57979264 0.57288067 0.62573694 0.63102257 0.6361049\n",
      " 0.62776987 0.6269567  0.63590161 0.62594023 0.6391543  0.62614353\n",
      " 0.62268754 0.60351926 0.57056576 0.5367772  0.50608665 0.47932872\n",
      " 0.45650041 0.43714076 0.42068487 0.40662998 0.39452267 0.38398841\n",
      " 0.37489599 0.36706257 0.36026505 0.35427961 0.34890461 0.34397343\n",
      " 0.33935922 0.33497247 0.33075377 0.32666686]\n",
      "21 day output [[0.32269058]]\n",
      "22 day input [0.75991055 0.7584875  0.76621264 0.75462492 0.76316324 0.79670665\n",
      " 0.80585485 0.7889815  0.78003659 0.73978451 0.73002643 0.73490547\n",
      " 0.74872942 0.75991055 0.75462492 0.75401504 0.76174019 0.7737345\n",
      " 0.82008538 0.80585485 0.81154706 0.77434438 0.78633869 0.79284407\n",
      " 0.78328929 0.77109169 0.74385038 0.71193332 0.68733482 0.67818662\n",
      " 0.65257166 0.64301687 0.65643423 0.67656028 0.67371417 0.65114861\n",
      " 0.65521447 0.66761537 0.67838992 0.69993901 0.63122586 0.63508843\n",
      " 0.64098394 0.64545639 0.64118723 0.63854442 0.63081927 0.62472047\n",
      " 0.6330555  0.64728603 0.6574507  0.66761537 0.66720878 0.64159382\n",
      " 0.62776987 0.63651149 0.63630819 0.62980281 0.62817646 0.63813783\n",
      " 0.65358813 0.63183574 0.57653995 0.57816629 0.57613336 0.61943484\n",
      " 0.57979264 0.57288067 0.62573694 0.63102257 0.6361049  0.62776987\n",
      " 0.6269567  0.63590161 0.62594023 0.6391543  0.62614353 0.62268754\n",
      " 0.60351926 0.57056576 0.5367772  0.50608665 0.47932872 0.45650041\n",
      " 0.43714076 0.42068487 0.40662998 0.39452267 0.38398841 0.37489599\n",
      " 0.36706257 0.36026505 0.35427961 0.34890461 0.34397343 0.33935922\n",
      " 0.33497247 0.33075377 0.32666686 0.32269058]\n",
      "22 day output [[0.3188133]]\n",
      "23 day input [0.7584875  0.76621264 0.75462492 0.76316324 0.79670665 0.80585485\n",
      " 0.7889815  0.78003659 0.73978451 0.73002643 0.73490547 0.74872942\n",
      " 0.75991055 0.75462492 0.75401504 0.76174019 0.7737345  0.82008538\n",
      " 0.80585485 0.81154706 0.77434438 0.78633869 0.79284407 0.78328929\n",
      " 0.77109169 0.74385038 0.71193332 0.68733482 0.67818662 0.65257166\n",
      " 0.64301687 0.65643423 0.67656028 0.67371417 0.65114861 0.65521447\n",
      " 0.66761537 0.67838992 0.69993901 0.63122586 0.63508843 0.64098394\n",
      " 0.64545639 0.64118723 0.63854442 0.63081927 0.62472047 0.6330555\n",
      " 0.64728603 0.6574507  0.66761537 0.66720878 0.64159382 0.62776987\n",
      " 0.63651149 0.63630819 0.62980281 0.62817646 0.63813783 0.65358813\n",
      " 0.63183574 0.57653995 0.57816629 0.57613336 0.61943484 0.57979264\n",
      " 0.57288067 0.62573694 0.63102257 0.6361049  0.62776987 0.6269567\n",
      " 0.63590161 0.62594023 0.6391543  0.62614353 0.62268754 0.60351926\n",
      " 0.57056576 0.5367772  0.50608665 0.47932872 0.45650041 0.43714076\n",
      " 0.42068487 0.40662998 0.39452267 0.38398841 0.37489599 0.36706257\n",
      " 0.36026505 0.35427961 0.34890461 0.34397343 0.33935922 0.33497247\n",
      " 0.33075377 0.32666686 0.32269058 0.31881329]\n",
      "23 day output [[0.3150284]]\n",
      "24 day input [0.76621264 0.75462492 0.76316324 0.79670665 0.80585485 0.7889815\n",
      " 0.78003659 0.73978451 0.73002643 0.73490547 0.74872942 0.75991055\n",
      " 0.75462492 0.75401504 0.76174019 0.7737345  0.82008538 0.80585485\n",
      " 0.81154706 0.77434438 0.78633869 0.79284407 0.78328929 0.77109169\n",
      " 0.74385038 0.71193332 0.68733482 0.67818662 0.65257166 0.64301687\n",
      " 0.65643423 0.67656028 0.67371417 0.65114861 0.65521447 0.66761537\n",
      " 0.67838992 0.69993901 0.63122586 0.63508843 0.64098394 0.64545639\n",
      " 0.64118723 0.63854442 0.63081927 0.62472047 0.6330555  0.64728603\n",
      " 0.6574507  0.66761537 0.66720878 0.64159382 0.62776987 0.63651149\n",
      " 0.63630819 0.62980281 0.62817646 0.63813783 0.65358813 0.63183574\n",
      " 0.57653995 0.57816629 0.57613336 0.61943484 0.57979264 0.57288067\n",
      " 0.62573694 0.63102257 0.6361049  0.62776987 0.6269567  0.63590161\n",
      " 0.62594023 0.6391543  0.62614353 0.62268754 0.60351926 0.57056576\n",
      " 0.5367772  0.50608665 0.47932872 0.45650041 0.43714076 0.42068487\n",
      " 0.40662998 0.39452267 0.38398841 0.37489599 0.36706257 0.36026505\n",
      " 0.35427961 0.34890461 0.34397343 0.33935922 0.33497247 0.33075377\n",
      " 0.32666686 0.32269058 0.31881329 0.3150284 ]\n",
      "24 day output [[0.31133175]]\n",
      "25 day input [0.75462492 0.76316324 0.79670665 0.80585485 0.7889815  0.78003659\n",
      " 0.73978451 0.73002643 0.73490547 0.74872942 0.75991055 0.75462492\n",
      " 0.75401504 0.76174019 0.7737345  0.82008538 0.80585485 0.81154706\n",
      " 0.77434438 0.78633869 0.79284407 0.78328929 0.77109169 0.74385038\n",
      " 0.71193332 0.68733482 0.67818662 0.65257166 0.64301687 0.65643423\n",
      " 0.67656028 0.67371417 0.65114861 0.65521447 0.66761537 0.67838992\n",
      " 0.69993901 0.63122586 0.63508843 0.64098394 0.64545639 0.64118723\n",
      " 0.63854442 0.63081927 0.62472047 0.6330555  0.64728603 0.6574507\n",
      " 0.66761537 0.66720878 0.64159382 0.62776987 0.63651149 0.63630819\n",
      " 0.62980281 0.62817646 0.63813783 0.65358813 0.63183574 0.57653995\n",
      " 0.57816629 0.57613336 0.61943484 0.57979264 0.57288067 0.62573694\n",
      " 0.63102257 0.6361049  0.62776987 0.6269567  0.63590161 0.62594023\n",
      " 0.6391543  0.62614353 0.62268754 0.60351926 0.57056576 0.5367772\n",
      " 0.50608665 0.47932872 0.45650041 0.43714076 0.42068487 0.40662998\n",
      " 0.39452267 0.38398841 0.37489599 0.36706257 0.36026505 0.35427961\n",
      " 0.34890461 0.34397343 0.33935922 0.33497247 0.33075377 0.32666686\n",
      " 0.32269058 0.31881329 0.3150284  0.31133175]\n",
      "25 day output [[0.3077206]]\n",
      "26 day input [0.76316324 0.79670665 0.80585485 0.7889815  0.78003659 0.73978451\n",
      " 0.73002643 0.73490547 0.74872942 0.75991055 0.75462492 0.75401504\n",
      " 0.76174019 0.7737345  0.82008538 0.80585485 0.81154706 0.77434438\n",
      " 0.78633869 0.79284407 0.78328929 0.77109169 0.74385038 0.71193332\n",
      " 0.68733482 0.67818662 0.65257166 0.64301687 0.65643423 0.67656028\n",
      " 0.67371417 0.65114861 0.65521447 0.66761537 0.67838992 0.69993901\n",
      " 0.63122586 0.63508843 0.64098394 0.64545639 0.64118723 0.63854442\n",
      " 0.63081927 0.62472047 0.6330555  0.64728603 0.6574507  0.66761537\n",
      " 0.66720878 0.64159382 0.62776987 0.63651149 0.63630819 0.62980281\n",
      " 0.62817646 0.63813783 0.65358813 0.63183574 0.57653995 0.57816629\n",
      " 0.57613336 0.61943484 0.57979264 0.57288067 0.62573694 0.63102257\n",
      " 0.6361049  0.62776987 0.6269567  0.63590161 0.62594023 0.6391543\n",
      " 0.62614353 0.62268754 0.60351926 0.57056576 0.5367772  0.50608665\n",
      " 0.47932872 0.45650041 0.43714076 0.42068487 0.40662998 0.39452267\n",
      " 0.38398841 0.37489599 0.36706257 0.36026505 0.35427961 0.34890461\n",
      " 0.34397343 0.33935922 0.33497247 0.33075377 0.32666686 0.32269058\n",
      " 0.31881329 0.3150284  0.31133175 0.3077206 ]\n",
      "26 day output [[0.3041924]]\n",
      "27 day input [0.79670665 0.80585485 0.7889815  0.78003659 0.73978451 0.73002643\n",
      " 0.73490547 0.74872942 0.75991055 0.75462492 0.75401504 0.76174019\n",
      " 0.7737345  0.82008538 0.80585485 0.81154706 0.77434438 0.78633869\n",
      " 0.79284407 0.78328929 0.77109169 0.74385038 0.71193332 0.68733482\n",
      " 0.67818662 0.65257166 0.64301687 0.65643423 0.67656028 0.67371417\n",
      " 0.65114861 0.65521447 0.66761537 0.67838992 0.69993901 0.63122586\n",
      " 0.63508843 0.64098394 0.64545639 0.64118723 0.63854442 0.63081927\n",
      " 0.62472047 0.6330555  0.64728603 0.6574507  0.66761537 0.66720878\n",
      " 0.64159382 0.62776987 0.63651149 0.63630819 0.62980281 0.62817646\n",
      " 0.63813783 0.65358813 0.63183574 0.57653995 0.57816629 0.57613336\n",
      " 0.61943484 0.57979264 0.57288067 0.62573694 0.63102257 0.6361049\n",
      " 0.62776987 0.6269567  0.63590161 0.62594023 0.6391543  0.62614353\n",
      " 0.62268754 0.60351926 0.57056576 0.5367772  0.50608665 0.47932872\n",
      " 0.45650041 0.43714076 0.42068487 0.40662998 0.39452267 0.38398841\n",
      " 0.37489599 0.36706257 0.36026505 0.35427961 0.34890461 0.34397343\n",
      " 0.33935922 0.33497247 0.33075377 0.32666686 0.32269058 0.31881329\n",
      " 0.3150284  0.31133175 0.3077206  0.30419239]\n"
     ]
    },
    {
     "name": "stdout",
     "output_type": "stream",
     "text": [
      "27 day output [[0.30074507]]\n",
      "[[0.6035192608833313], [0.5705657601356506], [0.5367771983146667], [0.5060866475105286], [0.4793287217617035], [0.45650041103363037], [0.4371407628059387], [0.4206848740577698], [0.4066299796104431], [0.39452266693115234], [0.3839884102344513], [0.37489598989486694], [0.3670625686645508], [0.3602650463581085], [0.35427960753440857], [0.3489046096801758], [0.34397342801094055], [0.33935922384262085], [0.33497247099876404], [0.33075377345085144], [0.32666686177253723], [0.32269057631492615], [0.318813294172287], [0.3150283992290497], [0.31133174896240234], [0.3077206015586853], [0.3041923940181732], [0.30074506998062134]]\n"
     ]
    }
   ],
   "source": [
    "temp_input = list(x_input)\n",
    "temp_input = temp_input[0].tolist()\n",
    "\n",
    "lst_output=[]\n",
    "n_steps=100\n",
    "nextNumberOfDays = 28\n",
    "i=0\n",
    "\n",
    "while(i<nextNumberOfDays):\n",
    "    \n",
    "    if(len(temp_input)>100):\n",
    "        x_input=np.array(temp_input[1:])\n",
    "        print(\"{} day input {}\".format(i,x_input))\n",
    "        x_input=x_input.reshape(1,-1)\n",
    "        x_input = x_input.reshape((1, n_steps, 1))\n",
    "        yhat = model.predict(x_input, verbose=0)\n",
    "        print(\"{} day output {}\".format(i,yhat))\n",
    "        temp_input.extend(yhat[0].tolist())\n",
    "        temp_input=temp_input[1:]\n",
    "        lst_output.extend(yhat.tolist())\n",
    "        i=i+1\n",
    "    else:\n",
    "        x_input = x_input.reshape((1, n_steps,1))\n",
    "        yhat = model.predict(x_input, verbose=0)\n",
    "        print(yhat[0])\n",
    "        temp_input.extend(yhat[0].tolist())\n",
    "        print(len(temp_input))\n",
    "        lst_output.extend(yhat.tolist())\n",
    "        i=i+1\n",
    "    \n",
    "print(lst_output)"
   ]
  },
  {
   "cell_type": "code",
   "execution_count": 35,
   "id": "941af8d3-d5b2-4b81-862e-19187d74ecaa",
   "metadata": {},
   "outputs": [],
   "source": [
    "day_new = np.arange(1,101)\n",
    "day_pred = np.arange(101,129)"
   ]
  },
  {
   "cell_type": "code",
   "execution_count": 36,
   "id": "4449783a-8f32-4993-82f3-1e2d7a099620",
   "metadata": {},
   "outputs": [
    {
     "data": {
      "text/plain": [
       "(100,)"
      ]
     },
     "execution_count": 36,
     "metadata": {},
     "output_type": "execute_result"
    }
   ],
   "source": [
    "day_new.shape"
   ]
  },
  {
   "cell_type": "code",
   "execution_count": 37,
   "id": "34aff7c7-0ed3-4539-9444-d10aa2d711e6",
   "metadata": {},
   "outputs": [
    {
     "data": {
      "text/plain": [
       "(28,)"
      ]
     },
     "execution_count": 37,
     "metadata": {},
     "output_type": "execute_result"
    }
   ],
   "source": [
    "day_pred.shape"
   ]
  },
  {
   "cell_type": "code",
   "execution_count": 38,
   "id": "349695ae-5e42-483e-823d-a156adfdcd36",
   "metadata": {},
   "outputs": [
    {
     "data": {
      "text/plain": [
       "2035"
      ]
     },
     "execution_count": 38,
     "metadata": {},
     "output_type": "execute_result"
    }
   ],
   "source": [
    "len(df_high)"
   ]
  },
  {
   "cell_type": "code",
   "execution_count": 39,
   "id": "8c88a902-82d7-407a-a19f-fd0cb4b581e6",
   "metadata": {},
   "outputs": [
    {
     "data": {
      "text/plain": [
       "[<matplotlib.lines.Line2D at 0x1c228648d90>]"
      ]
     },
     "execution_count": 39,
     "metadata": {},
     "output_type": "execute_result"
    },
    {
     "data": {
      "image/png": "[encoded data removed]",
      "text/plain": [
       "<Figure size 432x288 with 1 Axes>"
      ]
     },
     "metadata": {
      "needs_background": "light"
     },
     "output_type": "display_data"
    }
   ],
   "source": [
    "plt.plot(day_new, scaler.inverse_transform(df_high[1935:]))\n",
    "plt.plot(day_pred, scaler.inverse_transform(lst_output))"
   ]
  },
  {
   "cell_type": "code",
   "execution_count": 40,
   "id": "6aa057a2-f329-40e6-a82f-b8d41fd3afb2",
   "metadata": {},
   "outputs": [
    {
     "data": {
      "text/plain": [
       "[<matplotlib.lines.Line2D at 0x1c2284d1640>]"
      ]
     },
     "execution_count": 40,
     "metadata": {},
     "output_type": "execute_result"
    },
    {
     "data": {
      "image/png": "[encoded data removed]",
      "text/plain": [
       "<Figure size 432x288 with 1 Axes>"
      ]
     },
     "metadata": {
      "needs_background": "light"
     },
     "output_type": "display_data"
    }
   ],
   "source": [
    "data_new = df_high.tolist()\n",
    "data_new.extend(lst_output)\n",
    "plt.plot(data_new[2000:])"
   ]
  },
  {
   "cell_type": "code",
   "execution_count": 41,
   "id": "3a150b77-b83b-4998-9621-f5a89c869b77",
   "metadata": {},
   "outputs": [],
   "source": [
    "data_new =scaler.inverse_transform(data_new).tolist()"
   ]
  },
  {
   "cell_type": "code",
   "execution_count": 42,
   "id": "6f7abf6f-f8db-47cd-9f9b-ca71128aa749",
   "metadata": {},
   "outputs": [
    {
     "data": {
      "text/plain": [
       "[<matplotlib.lines.Line2D at 0x1c2287812b0>]"
      ]
     },
     "execution_count": 42,
     "metadata": {},
     "output_type": "execute_result"
    },
    {
     "data": {
      "image/png": "[encoded data removed]",
      "text/plain": [
       "<Figure size 432x288 with 1 Axes>"
      ]
     },
     "metadata": {
      "needs_background": "light"
     },
     "output_type": "display_data"
    }
   ],
   "source": [
    "plt.plot(data_new)"
   ]
  },
  {
   "cell_type": "code",
   "execution_count": null,
   "id": "79ccde33-d31d-43e3-8478-35f224a28b1a",
   "metadata": {},
   "outputs": [],
   "source": []
  }
 ],
 "metadata": {
  "kernelspec": {
   "display_name": "Python 3 (ipykernel)",
   "language": "python",
   "name": "python3"
  },
  "language_info": {
   "codemirror_mode": {
    "name": "ipython",
    "version": 3
   },
   "file_extension": ".py",
   "mimetype": "text/x-python",
   "name": "python",
   "nbconvert_exporter": "python",
   "pygments_lexer": "ipython3",
   "version": "3.9.12"
  }
 },
 "nbformat": 4,
 "nbformat_minor": 5
}
